{
  "nbformat": 4,
  "nbformat_minor": 0,
  "metadata": {
    "colab": {
      "provenance": [],
      "authorship_tag": "ABX9TyPlXJulGS1ycPZrO45O3GIK",
      "include_colab_link": true
    },
    "kernelspec": {
      "name": "python3",
      "display_name": "Python 3"
    },
    "language_info": {
      "name": "python"
    }
  },
  "cells": [
    {
      "cell_type": "markdown",
      "metadata": {
        "id": "view-in-github",
        "colab_type": "text"
      },
      "source": [
        "<a href=\"https://colab.research.google.com/github/linhoangce/ml_with_pytorch_and_scikitlearn/blob/main/chapter13_mechanics_of_pytorch.ipynb\" target=\"_parent\"><img src=\"https://colab.research.google.com/assets/colab-badge.svg\" alt=\"Open In Colab\"/></a>"
      ]
    },
    {
      "cell_type": "markdown",
      "source": [
        "Topics:\n",
        "\n",
        "* Understanding and working with Pytorch computation graphs\n",
        "* working with PyTorch tensor objects\n",
        "* Solving the classic XOR probelm and understanding model capacity\n",
        "* Building complex NN models using PyTorch's `Sequential` class and the `nn.Module` class\n",
        "* Computing gradients using automatic differentiation and `torch.autograd`\n"
      ],
      "metadata": {
        "id": "nhiHCvrUWPXI"
      }
    },
    {
      "cell_type": "markdown",
      "source": [
        "# PyTorch's computation graphs"
      ],
      "metadata": {
        "id": "Do4s3lIDWtpl"
      }
    },
    {
      "cell_type": "markdown",
      "source": [
        "## Creating a graph in PyTorch"
      ],
      "metadata": {
        "id": "yXQpOOnqYYdq"
      }
    },
    {
      "cell_type": "code",
      "source": [
        "import torch\n",
        "\n",
        "def compute_z(a, b, c):\n",
        "  r1 = torch.sub(a, b)\n",
        "  r2 = torch.mul(r1, 2)\n",
        "  z = torch.add(r2, c)\n",
        "  return z"
      ],
      "metadata": {
        "id": "M45ydGjVYcVQ"
      },
      "execution_count": 1,
      "outputs": []
    },
    {
      "cell_type": "code",
      "source": [
        "print(f'Scalar inputs: {compute_z(torch.tensor(1), torch.tensor(2), torch.tensor(3))}')\n",
        "print(f'Rank 1 Inputs: {compute_z(torch.tensor([1]), torch.tensor([2]), torch.tensor([3]))}')\n",
        "print(f'Ranl 2 Inputs: {compute_z(torch.tensor([[1]]), torch.tensor([[2]]), torch.tensor([[3]]))}')"
      ],
      "metadata": {
        "colab": {
          "base_uri": "https://localhost:8080/"
        },
        "id": "NFaVAs8dYnC6",
        "outputId": "cd8d563a-d3a2-4f25-dd50-6f57864f7b07"
      },
      "execution_count": 2,
      "outputs": [
        {
          "output_type": "stream",
          "name": "stdout",
          "text": [
            "Scalar inputs: 1\n",
            "Rank 1 Inputs: tensor([1])\n",
            "Ranl 2 Inputs: tensor([[1]])\n"
          ]
        }
      ]
    },
    {
      "cell_type": "markdown",
      "source": [
        "# PyTorch tensor objects for sorting and updating model parameters"
      ],
      "metadata": {
        "id": "jY_yIraqZMuD"
      }
    },
    {
      "cell_type": "code",
      "source": [
        "# create tensors used to compute gradients\n",
        "a = torch.tensor(3.14, requires_grad=True)\n",
        "b = torch.tensor([1.0, 2.0, 3.0], requires_grad=True)\n",
        "a, b"
      ],
      "metadata": {
        "colab": {
          "base_uri": "https://localhost:8080/"
        },
        "id": "WvtnjddlZTyE",
        "outputId": "646ecaac-de5e-411f-c8f9-75f95100b37d"
      },
      "execution_count": 3,
      "outputs": [
        {
          "output_type": "execute_result",
          "data": {
            "text/plain": [
              "(tensor(3.1400, requires_grad=True), tensor([1., 2., 3.], requires_grad=True))"
            ]
          },
          "metadata": {},
          "execution_count": 3
        }
      ]
    },
    {
      "cell_type": "code",
      "source": [
        "c = torch.tensor(1.)\n",
        "c.requires_grad"
      ],
      "metadata": {
        "colab": {
          "base_uri": "https://localhost:8080/"
        },
        "id": "hU5NCzU2aSyr",
        "outputId": "7dd4c825-c889-4cea-b384-d84097521d72"
      },
      "execution_count": 12,
      "outputs": [
        {
          "output_type": "execute_result",
          "data": {
            "text/plain": [
              "False"
            ]
          },
          "metadata": {},
          "execution_count": 12
        }
      ]
    },
    {
      "cell_type": "code",
      "source": [
        "# setting require_grad to True\n",
        "c.requires_grad_()"
      ],
      "metadata": {
        "colab": {
          "base_uri": "https://localhost:8080/"
        },
        "id": "WU-5E3rUaWgm",
        "outputId": "251ff4f8-2fc4-4b82-a2eb-e22a84a0e0a4"
      },
      "execution_count": 11,
      "outputs": [
        {
          "output_type": "execute_result",
          "data": {
            "text/plain": [
              "tensor(1., requires_grad=True)"
            ]
          },
          "metadata": {},
          "execution_count": 11
        }
      ]
    },
    {
      "cell_type": "code",
      "source": [],
      "metadata": {
        "id": "3AkoupvYadGU"
      },
      "execution_count": null,
      "outputs": []
    }
  ]
}