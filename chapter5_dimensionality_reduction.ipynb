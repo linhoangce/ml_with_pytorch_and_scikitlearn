{
  "nbformat": 4,
  "nbformat_minor": 0,
  "metadata": {
    "colab": {
      "provenance": [],
      "authorship_tag": "ABX9TyNwM4xJq3XCh/dfF470zDD/",
      "include_colab_link": true
    },
    "kernelspec": {
      "name": "python3",
      "display_name": "Python 3"
    },
    "language_info": {
      "name": "python"
    }
  },
  "cells": [
    {
      "cell_type": "markdown",
      "metadata": {
        "id": "view-in-github",
        "colab_type": "text"
      },
      "source": [
        "<a href=\"https://colab.research.google.com/github/linhoangce/ml_with_pytorch_and_scikitlearn/blob/main/chapter5_dimensionality_reduction.ipynb\" target=\"_parent\"><img src=\"https://colab.research.google.com/assets/colab-badge.svg\" alt=\"Open In Colab\"/></a>"
      ]
    },
    {
      "cell_type": "markdown",
      "source": [
        "## Feature Extraction"
      ],
      "metadata": {
        "id": "8Dymi6-bB4g4"
      }
    },
    {
      "cell_type": "markdown",
      "source": [
        "### Extracting the pricipal components step by step\n",
        "\n",
        "We will tackle the first four steps of a PCA:\n",
        "\n",
        "1. Standardize the data\n",
        "2. Construct the covariance matrix\n",
        "3. Obtain the eigenvalues and eigenvectors of the covariance matrix\n",
        "4. Sort the eigenvalues by decreasing order to rank the eigenvectos"
      ],
      "metadata": {
        "id": "oSeSCYdM2gzg"
      }
    },
    {
      "cell_type": "code",
      "source": [
        "# reuse the Wine dataset\n",
        "import pandas as pd\n",
        "\n",
        "df_wine = pd.read_csv('https://archive.ics.uci.edu/ml/machine-learning-databases/wine/wine.data', header=None)\n",
        "df_wine.head()"
      ],
      "metadata": {
        "colab": {
          "base_uri": "https://localhost:8080/",
          "height": 206
        },
        "id": "66G7OfUl9Yks",
        "outputId": "cddf97ee-4a20-428a-8800-a8203e5fc249"
      },
      "execution_count": 2,
      "outputs": [
        {
          "output_type": "execute_result",
          "data": {
            "text/plain": [
              "   0      1     2     3     4    5     6     7     8     9     10    11    12  \\\n",
              "0   1  14.23  1.71  2.43  15.6  127  2.80  3.06  0.28  2.29  5.64  1.04  3.92   \n",
              "1   1  13.20  1.78  2.14  11.2  100  2.65  2.76  0.26  1.28  4.38  1.05  3.40   \n",
              "2   1  13.16  2.36  2.67  18.6  101  2.80  3.24  0.30  2.81  5.68  1.03  3.17   \n",
              "3   1  14.37  1.95  2.50  16.8  113  3.85  3.49  0.24  2.18  7.80  0.86  3.45   \n",
              "4   1  13.24  2.59  2.87  21.0  118  2.80  2.69  0.39  1.82  4.32  1.04  2.93   \n",
              "\n",
              "     13  \n",
              "0  1065  \n",
              "1  1050  \n",
              "2  1185  \n",
              "3  1480  \n",
              "4   735  "
            ],
            "text/html": [
              "\n",
              "  <div id=\"df-44960cf0-6cea-49f8-8582-2514b2083d52\" class=\"colab-df-container\">\n",
              "    <div>\n",
              "<style scoped>\n",
              "    .dataframe tbody tr th:only-of-type {\n",
              "        vertical-align: middle;\n",
              "    }\n",
              "\n",
              "    .dataframe tbody tr th {\n",
              "        vertical-align: top;\n",
              "    }\n",
              "\n",
              "    .dataframe thead th {\n",
              "        text-align: right;\n",
              "    }\n",
              "</style>\n",
              "<table border=\"1\" class=\"dataframe\">\n",
              "  <thead>\n",
              "    <tr style=\"text-align: right;\">\n",
              "      <th></th>\n",
              "      <th>0</th>\n",
              "      <th>1</th>\n",
              "      <th>2</th>\n",
              "      <th>3</th>\n",
              "      <th>4</th>\n",
              "      <th>5</th>\n",
              "      <th>6</th>\n",
              "      <th>7</th>\n",
              "      <th>8</th>\n",
              "      <th>9</th>\n",
              "      <th>10</th>\n",
              "      <th>11</th>\n",
              "      <th>12</th>\n",
              "      <th>13</th>\n",
              "    </tr>\n",
              "  </thead>\n",
              "  <tbody>\n",
              "    <tr>\n",
              "      <th>0</th>\n",
              "      <td>1</td>\n",
              "      <td>14.23</td>\n",
              "      <td>1.71</td>\n",
              "      <td>2.43</td>\n",
              "      <td>15.6</td>\n",
              "      <td>127</td>\n",
              "      <td>2.80</td>\n",
              "      <td>3.06</td>\n",
              "      <td>0.28</td>\n",
              "      <td>2.29</td>\n",
              "      <td>5.64</td>\n",
              "      <td>1.04</td>\n",
              "      <td>3.92</td>\n",
              "      <td>1065</td>\n",
              "    </tr>\n",
              "    <tr>\n",
              "      <th>1</th>\n",
              "      <td>1</td>\n",
              "      <td>13.20</td>\n",
              "      <td>1.78</td>\n",
              "      <td>2.14</td>\n",
              "      <td>11.2</td>\n",
              "      <td>100</td>\n",
              "      <td>2.65</td>\n",
              "      <td>2.76</td>\n",
              "      <td>0.26</td>\n",
              "      <td>1.28</td>\n",
              "      <td>4.38</td>\n",
              "      <td>1.05</td>\n",
              "      <td>3.40</td>\n",
              "      <td>1050</td>\n",
              "    </tr>\n",
              "    <tr>\n",
              "      <th>2</th>\n",
              "      <td>1</td>\n",
              "      <td>13.16</td>\n",
              "      <td>2.36</td>\n",
              "      <td>2.67</td>\n",
              "      <td>18.6</td>\n",
              "      <td>101</td>\n",
              "      <td>2.80</td>\n",
              "      <td>3.24</td>\n",
              "      <td>0.30</td>\n",
              "      <td>2.81</td>\n",
              "      <td>5.68</td>\n",
              "      <td>1.03</td>\n",
              "      <td>3.17</td>\n",
              "      <td>1185</td>\n",
              "    </tr>\n",
              "    <tr>\n",
              "      <th>3</th>\n",
              "      <td>1</td>\n",
              "      <td>14.37</td>\n",
              "      <td>1.95</td>\n",
              "      <td>2.50</td>\n",
              "      <td>16.8</td>\n",
              "      <td>113</td>\n",
              "      <td>3.85</td>\n",
              "      <td>3.49</td>\n",
              "      <td>0.24</td>\n",
              "      <td>2.18</td>\n",
              "      <td>7.80</td>\n",
              "      <td>0.86</td>\n",
              "      <td>3.45</td>\n",
              "      <td>1480</td>\n",
              "    </tr>\n",
              "    <tr>\n",
              "      <th>4</th>\n",
              "      <td>1</td>\n",
              "      <td>13.24</td>\n",
              "      <td>2.59</td>\n",
              "      <td>2.87</td>\n",
              "      <td>21.0</td>\n",
              "      <td>118</td>\n",
              "      <td>2.80</td>\n",
              "      <td>2.69</td>\n",
              "      <td>0.39</td>\n",
              "      <td>1.82</td>\n",
              "      <td>4.32</td>\n",
              "      <td>1.04</td>\n",
              "      <td>2.93</td>\n",
              "      <td>735</td>\n",
              "    </tr>\n",
              "  </tbody>\n",
              "</table>\n",
              "</div>\n",
              "    <div class=\"colab-df-buttons\">\n",
              "\n",
              "  <div class=\"colab-df-container\">\n",
              "    <button class=\"colab-df-convert\" onclick=\"convertToInteractive('df-44960cf0-6cea-49f8-8582-2514b2083d52')\"\n",
              "            title=\"Convert this dataframe to an interactive table.\"\n",
              "            style=\"display:none;\">\n",
              "\n",
              "  <svg xmlns=\"http://www.w3.org/2000/svg\" height=\"24px\" viewBox=\"0 -960 960 960\">\n",
              "    <path d=\"M120-120v-720h720v720H120Zm60-500h600v-160H180v160Zm220 220h160v-160H400v160Zm0 220h160v-160H400v160ZM180-400h160v-160H180v160Zm440 0h160v-160H620v160ZM180-180h160v-160H180v160Zm440 0h160v-160H620v160Z\"/>\n",
              "  </svg>\n",
              "    </button>\n",
              "\n",
              "  <style>\n",
              "    .colab-df-container {\n",
              "      display:flex;\n",
              "      gap: 12px;\n",
              "    }\n",
              "\n",
              "    .colab-df-convert {\n",
              "      background-color: #E8F0FE;\n",
              "      border: none;\n",
              "      border-radius: 50%;\n",
              "      cursor: pointer;\n",
              "      display: none;\n",
              "      fill: #1967D2;\n",
              "      height: 32px;\n",
              "      padding: 0 0 0 0;\n",
              "      width: 32px;\n",
              "    }\n",
              "\n",
              "    .colab-df-convert:hover {\n",
              "      background-color: #E2EBFA;\n",
              "      box-shadow: 0px 1px 2px rgba(60, 64, 67, 0.3), 0px 1px 3px 1px rgba(60, 64, 67, 0.15);\n",
              "      fill: #174EA6;\n",
              "    }\n",
              "\n",
              "    .colab-df-buttons div {\n",
              "      margin-bottom: 4px;\n",
              "    }\n",
              "\n",
              "    [theme=dark] .colab-df-convert {\n",
              "      background-color: #3B4455;\n",
              "      fill: #D2E3FC;\n",
              "    }\n",
              "\n",
              "    [theme=dark] .colab-df-convert:hover {\n",
              "      background-color: #434B5C;\n",
              "      box-shadow: 0px 1px 3px 1px rgba(0, 0, 0, 0.15);\n",
              "      filter: drop-shadow(0px 1px 2px rgba(0, 0, 0, 0.3));\n",
              "      fill: #FFFFFF;\n",
              "    }\n",
              "  </style>\n",
              "\n",
              "    <script>\n",
              "      const buttonEl =\n",
              "        document.querySelector('#df-44960cf0-6cea-49f8-8582-2514b2083d52 button.colab-df-convert');\n",
              "      buttonEl.style.display =\n",
              "        google.colab.kernel.accessAllowed ? 'block' : 'none';\n",
              "\n",
              "      async function convertToInteractive(key) {\n",
              "        const element = document.querySelector('#df-44960cf0-6cea-49f8-8582-2514b2083d52');\n",
              "        const dataTable =\n",
              "          await google.colab.kernel.invokeFunction('convertToInteractive',\n",
              "                                                    [key], {});\n",
              "        if (!dataTable) return;\n",
              "\n",
              "        const docLinkHtml = 'Like what you see? Visit the ' +\n",
              "          '<a target=\"_blank\" href=https://colab.research.google.com/notebooks/data_table.ipynb>data table notebook</a>'\n",
              "          + ' to learn more about interactive tables.';\n",
              "        element.innerHTML = '';\n",
              "        dataTable['output_type'] = 'display_data';\n",
              "        await google.colab.output.renderOutput(dataTable, element);\n",
              "        const docLink = document.createElement('div');\n",
              "        docLink.innerHTML = docLinkHtml;\n",
              "        element.appendChild(docLink);\n",
              "      }\n",
              "    </script>\n",
              "  </div>\n",
              "\n",
              "\n",
              "    <div id=\"df-9b31b516-3520-48c7-92ed-a48fe1681fbe\">\n",
              "      <button class=\"colab-df-quickchart\" onclick=\"quickchart('df-9b31b516-3520-48c7-92ed-a48fe1681fbe')\"\n",
              "                title=\"Suggest charts\"\n",
              "                style=\"display:none;\">\n",
              "\n",
              "<svg xmlns=\"http://www.w3.org/2000/svg\" height=\"24px\"viewBox=\"0 0 24 24\"\n",
              "     width=\"24px\">\n",
              "    <g>\n",
              "        <path d=\"M19 3H5c-1.1 0-2 .9-2 2v14c0 1.1.9 2 2 2h14c1.1 0 2-.9 2-2V5c0-1.1-.9-2-2-2zM9 17H7v-7h2v7zm4 0h-2V7h2v10zm4 0h-2v-4h2v4z\"/>\n",
              "    </g>\n",
              "</svg>\n",
              "      </button>\n",
              "\n",
              "<style>\n",
              "  .colab-df-quickchart {\n",
              "      --bg-color: #E8F0FE;\n",
              "      --fill-color: #1967D2;\n",
              "      --hover-bg-color: #E2EBFA;\n",
              "      --hover-fill-color: #174EA6;\n",
              "      --disabled-fill-color: #AAA;\n",
              "      --disabled-bg-color: #DDD;\n",
              "  }\n",
              "\n",
              "  [theme=dark] .colab-df-quickchart {\n",
              "      --bg-color: #3B4455;\n",
              "      --fill-color: #D2E3FC;\n",
              "      --hover-bg-color: #434B5C;\n",
              "      --hover-fill-color: #FFFFFF;\n",
              "      --disabled-bg-color: #3B4455;\n",
              "      --disabled-fill-color: #666;\n",
              "  }\n",
              "\n",
              "  .colab-df-quickchart {\n",
              "    background-color: var(--bg-color);\n",
              "    border: none;\n",
              "    border-radius: 50%;\n",
              "    cursor: pointer;\n",
              "    display: none;\n",
              "    fill: var(--fill-color);\n",
              "    height: 32px;\n",
              "    padding: 0;\n",
              "    width: 32px;\n",
              "  }\n",
              "\n",
              "  .colab-df-quickchart:hover {\n",
              "    background-color: var(--hover-bg-color);\n",
              "    box-shadow: 0 1px 2px rgba(60, 64, 67, 0.3), 0 1px 3px 1px rgba(60, 64, 67, 0.15);\n",
              "    fill: var(--button-hover-fill-color);\n",
              "  }\n",
              "\n",
              "  .colab-df-quickchart-complete:disabled,\n",
              "  .colab-df-quickchart-complete:disabled:hover {\n",
              "    background-color: var(--disabled-bg-color);\n",
              "    fill: var(--disabled-fill-color);\n",
              "    box-shadow: none;\n",
              "  }\n",
              "\n",
              "  .colab-df-spinner {\n",
              "    border: 2px solid var(--fill-color);\n",
              "    border-color: transparent;\n",
              "    border-bottom-color: var(--fill-color);\n",
              "    animation:\n",
              "      spin 1s steps(1) infinite;\n",
              "  }\n",
              "\n",
              "  @keyframes spin {\n",
              "    0% {\n",
              "      border-color: transparent;\n",
              "      border-bottom-color: var(--fill-color);\n",
              "      border-left-color: var(--fill-color);\n",
              "    }\n",
              "    20% {\n",
              "      border-color: transparent;\n",
              "      border-left-color: var(--fill-color);\n",
              "      border-top-color: var(--fill-color);\n",
              "    }\n",
              "    30% {\n",
              "      border-color: transparent;\n",
              "      border-left-color: var(--fill-color);\n",
              "      border-top-color: var(--fill-color);\n",
              "      border-right-color: var(--fill-color);\n",
              "    }\n",
              "    40% {\n",
              "      border-color: transparent;\n",
              "      border-right-color: var(--fill-color);\n",
              "      border-top-color: var(--fill-color);\n",
              "    }\n",
              "    60% {\n",
              "      border-color: transparent;\n",
              "      border-right-color: var(--fill-color);\n",
              "    }\n",
              "    80% {\n",
              "      border-color: transparent;\n",
              "      border-right-color: var(--fill-color);\n",
              "      border-bottom-color: var(--fill-color);\n",
              "    }\n",
              "    90% {\n",
              "      border-color: transparent;\n",
              "      border-bottom-color: var(--fill-color);\n",
              "    }\n",
              "  }\n",
              "</style>\n",
              "\n",
              "      <script>\n",
              "        async function quickchart(key) {\n",
              "          const quickchartButtonEl =\n",
              "            document.querySelector('#' + key + ' button');\n",
              "          quickchartButtonEl.disabled = true;  // To prevent multiple clicks.\n",
              "          quickchartButtonEl.classList.add('colab-df-spinner');\n",
              "          try {\n",
              "            const charts = await google.colab.kernel.invokeFunction(\n",
              "                'suggestCharts', [key], {});\n",
              "          } catch (error) {\n",
              "            console.error('Error during call to suggestCharts:', error);\n",
              "          }\n",
              "          quickchartButtonEl.classList.remove('colab-df-spinner');\n",
              "          quickchartButtonEl.classList.add('colab-df-quickchart-complete');\n",
              "        }\n",
              "        (() => {\n",
              "          let quickchartButtonEl =\n",
              "            document.querySelector('#df-9b31b516-3520-48c7-92ed-a48fe1681fbe button');\n",
              "          quickchartButtonEl.style.display =\n",
              "            google.colab.kernel.accessAllowed ? 'block' : 'none';\n",
              "        })();\n",
              "      </script>\n",
              "    </div>\n",
              "\n",
              "    </div>\n",
              "  </div>\n"
            ],
            "application/vnd.google.colaboratory.intrinsic+json": {
              "type": "dataframe",
              "variable_name": "df_wine",
              "summary": "{\n  \"name\": \"df_wine\",\n  \"rows\": 178,\n  \"fields\": [\n    {\n      \"column\": 0,\n      \"properties\": {\n        \"dtype\": \"number\",\n        \"std\": 0,\n        \"min\": 1,\n        \"max\": 3,\n        \"num_unique_values\": 3,\n        \"samples\": [\n          1,\n          2,\n          3\n        ],\n        \"semantic_type\": \"\",\n        \"description\": \"\"\n      }\n    },\n    {\n      \"column\": 1,\n      \"properties\": {\n        \"dtype\": \"number\",\n        \"std\": 0.8118265380058577,\n        \"min\": 11.03,\n        \"max\": 14.83,\n        \"num_unique_values\": 126,\n        \"samples\": [\n          11.62,\n          13.64,\n          13.69\n        ],\n        \"semantic_type\": \"\",\n        \"description\": \"\"\n      }\n    },\n    {\n      \"column\": 2,\n      \"properties\": {\n        \"dtype\": \"number\",\n        \"std\": 1.1171460976144627,\n        \"min\": 0.74,\n        \"max\": 5.8,\n        \"num_unique_values\": 133,\n        \"samples\": [\n          1.21,\n          2.83,\n          1.8\n        ],\n        \"semantic_type\": \"\",\n        \"description\": \"\"\n      }\n    },\n    {\n      \"column\": 3,\n      \"properties\": {\n        \"dtype\": \"number\",\n        \"std\": 0.2743440090608148,\n        \"min\": 1.36,\n        \"max\": 3.23,\n        \"num_unique_values\": 79,\n        \"samples\": [\n          2.31,\n          2.43,\n          2.52\n        ],\n        \"semantic_type\": \"\",\n        \"description\": \"\"\n      }\n    },\n    {\n      \"column\": 4,\n      \"properties\": {\n        \"dtype\": \"number\",\n        \"std\": 3.3395637671735052,\n        \"min\": 10.6,\n        \"max\": 30.0,\n        \"num_unique_values\": 63,\n        \"samples\": [\n          25.5,\n          28.5,\n          15.6\n        ],\n        \"semantic_type\": \"\",\n        \"description\": \"\"\n      }\n    },\n    {\n      \"column\": 5,\n      \"properties\": {\n        \"dtype\": \"number\",\n        \"std\": 14,\n        \"min\": 70,\n        \"max\": 162,\n        \"num_unique_values\": 53,\n        \"samples\": [\n          126,\n          85,\n          162\n        ],\n        \"semantic_type\": \"\",\n        \"description\": \"\"\n      }\n    },\n    {\n      \"column\": 6,\n      \"properties\": {\n        \"dtype\": \"number\",\n        \"std\": 0.6258510488339891,\n        \"min\": 0.98,\n        \"max\": 3.88,\n        \"num_unique_values\": 97,\n        \"samples\": [\n          1.68,\n          2.11,\n          1.35\n        ],\n        \"semantic_type\": \"\",\n        \"description\": \"\"\n      }\n    },\n    {\n      \"column\": 7,\n      \"properties\": {\n        \"dtype\": \"number\",\n        \"std\": 0.9988586850169465,\n        \"min\": 0.34,\n        \"max\": 5.08,\n        \"num_unique_values\": 132,\n        \"samples\": [\n          3.18,\n          2.5,\n          3.17\n        ],\n        \"semantic_type\": \"\",\n        \"description\": \"\"\n      }\n    },\n    {\n      \"column\": 8,\n      \"properties\": {\n        \"dtype\": \"number\",\n        \"std\": 0.12445334029667939,\n        \"min\": 0.13,\n        \"max\": 0.66,\n        \"num_unique_values\": 39,\n        \"samples\": [\n          0.58,\n          0.41,\n          0.39\n        ],\n        \"semantic_type\": \"\",\n        \"description\": \"\"\n      }\n    },\n    {\n      \"column\": 9,\n      \"properties\": {\n        \"dtype\": \"number\",\n        \"std\": 0.5723588626747611,\n        \"min\": 0.41,\n        \"max\": 3.58,\n        \"num_unique_values\": 101,\n        \"samples\": [\n          0.75,\n          1.77,\n          1.42\n        ],\n        \"semantic_type\": \"\",\n        \"description\": \"\"\n      }\n    },\n    {\n      \"column\": 10,\n      \"properties\": {\n        \"dtype\": \"number\",\n        \"std\": 2.318285871822413,\n        \"min\": 1.28,\n        \"max\": 13.0,\n        \"num_unique_values\": 132,\n        \"samples\": [\n          2.95,\n          3.3,\n          5.1\n        ],\n        \"semantic_type\": \"\",\n        \"description\": \"\"\n      }\n    },\n    {\n      \"column\": 11,\n      \"properties\": {\n        \"dtype\": \"number\",\n        \"std\": 0.22857156582982338,\n        \"min\": 0.48,\n        \"max\": 1.71,\n        \"num_unique_values\": 78,\n        \"samples\": [\n          1.22,\n          1.04,\n          1.45\n        ],\n        \"semantic_type\": \"\",\n        \"description\": \"\"\n      }\n    },\n    {\n      \"column\": 12,\n      \"properties\": {\n        \"dtype\": \"number\",\n        \"std\": 0.7099904287650505,\n        \"min\": 1.27,\n        \"max\": 4.0,\n        \"num_unique_values\": 122,\n        \"samples\": [\n          4.0,\n          1.82,\n          1.59\n        ],\n        \"semantic_type\": \"\",\n        \"description\": \"\"\n      }\n    },\n    {\n      \"column\": 13,\n      \"properties\": {\n        \"dtype\": \"number\",\n        \"std\": 314,\n        \"min\": 278,\n        \"max\": 1680,\n        \"num_unique_values\": 121,\n        \"samples\": [\n          1375,\n          1270,\n          735\n        ],\n        \"semantic_type\": \"\",\n        \"description\": \"\"\n      }\n    }\n  ]\n}"
            }
          },
          "metadata": {},
          "execution_count": 2
        }
      ]
    },
    {
      "cell_type": "code",
      "source": [
        "df_wine.columns = ['Class label', 'Alcohol',\n",
        "                   'Malic acid', 'Ash',\n",
        "                   'Alcalinity of ash', 'Magnesium',\n",
        "                   'Total phenols', 'Flavanoids',\n",
        "                   'Nonflavanoid phenols',\n",
        "                   'Proanthocyanins',\n",
        "                   'Color intensity', 'Hue',\n",
        "                   'OD280/OD315 of diluted wines',\n",
        "                   'Proline']"
      ],
      "metadata": {
        "id": "2RJVyeCHBq5I"
      },
      "execution_count": 3,
      "outputs": []
    },
    {
      "cell_type": "code",
      "source": [
        "# split dataset into training and testing by 70/30\n",
        "from sklearn.model_selection import train_test_split\n",
        "from sklearn.preprocessing import StandardScaler\n",
        "\n",
        "X, y = df_wine.iloc[:, 1:].values, df_wine.iloc[:, 0].values\n",
        "\n",
        "X_train, X_test, y_train, y_test = train_test_split(\n",
        "    X, y,\n",
        "    test_size=0.3,\n",
        "    random_state=0,\n",
        "    stratify=y\n",
        ")\n",
        "\n",
        "# 1. standardize features\n",
        "sc = StandardScaler()\n",
        "X_train_std = sc.fit_transform(X_train)\n",
        "X_test_std = sc.transform(X_test)"
      ],
      "metadata": {
        "id": "8A64ypXZ9g4I"
      },
      "execution_count": 4,
      "outputs": []
    },
    {
      "cell_type": "code",
      "source": [
        "X_train_std.shape"
      ],
      "metadata": {
        "colab": {
          "base_uri": "https://localhost:8080/"
        },
        "id": "asElwjS4GhZh",
        "outputId": "066ef50d-9f6b-4bba-8505-6aedf2f1f888"
      },
      "execution_count": 5,
      "outputs": [
        {
          "output_type": "execute_result",
          "data": {
            "text/plain": [
              "(124, 13)"
            ]
          },
          "metadata": {},
          "execution_count": 5
        }
      ]
    },
    {
      "cell_type": "code",
      "source": [
        "X_train_std.T.shape"
      ],
      "metadata": {
        "colab": {
          "base_uri": "https://localhost:8080/"
        },
        "id": "s7KrZ7guGjYs",
        "outputId": "52698c17-fe04-476b-e463-ce0c7df55c82"
      },
      "execution_count": 6,
      "outputs": [
        {
          "output_type": "execute_result",
          "data": {
            "text/plain": [
              "(13, 124)"
            ]
          },
          "metadata": {},
          "execution_count": 6
        }
      ]
    },
    {
      "cell_type": "code",
      "source": [
        "# 2. construct covariance matrix\n",
        "import numpy as np\n",
        "\n",
        "cov_mat = np.cov(X_train_std.T)\n",
        "\n",
        "# get eigenvalues and eigen vectos\n",
        "eigen_vals, eigen_vecs = np.linalg.eig(cov_mat)\n",
        "print('\\nEigeinvalues \\n', eigen_vals)"
      ],
      "metadata": {
        "colab": {
          "base_uri": "https://localhost:8080/"
        },
        "id": "Kkvm9IqY-SyK",
        "outputId": "30038fc7-60c0-40dd-c1c0-82dcb9eb1fef"
      },
      "execution_count": 7,
      "outputs": [
        {
          "output_type": "stream",
          "name": "stdout",
          "text": [
            "\n",
            "Eigeinvalues \n",
            " [4.84274532 2.41602459 1.54845825 0.96120438 0.84166161 0.6620634\n",
            " 0.51828472 0.34650377 0.3131368  0.10754642 0.21357215 0.15362835\n",
            " 0.1808613 ]\n"
          ]
        }
      ]
    },
    {
      "cell_type": "code",
      "source": [
        "cov_mat, cov_mat.shape"
      ],
      "metadata": {
        "colab": {
          "base_uri": "https://localhost:8080/"
        },
        "id": "nkCISeBKGnOx",
        "outputId": "8191e0a3-8c68-4b71-a624-a90968e4bc3a"
      },
      "execution_count": 8,
      "outputs": [
        {
          "output_type": "execute_result",
          "data": {
            "text/plain": [
              "(array([[ 1.00813008,  0.06709556,  0.17405351, -0.35439069,  0.26374703,\n",
              "          0.29079481,  0.21835807, -0.08111974,  0.10436705,  0.54282846,\n",
              "          0.05893536, -0.01797029,  0.6415292 ],\n",
              "        [ 0.06709556,  1.00813008,  0.08326463,  0.26356776, -0.11349172,\n",
              "         -0.33735555, -0.41035281,  0.33653916, -0.21602672,  0.17504154,\n",
              "         -0.551593  , -0.40561695, -0.24089991],\n",
              "        [ 0.17405351,  0.08326463,  1.00813008,  0.46420355,  0.29092834,\n",
              "          0.18020384,  0.15537535,  0.15918823, -0.00703776,  0.20549146,\n",
              "          0.00665422,  0.02039019,  0.223495  ],\n",
              "        [-0.35439069,  0.26356776,  0.46420355,  1.00813008, -0.07406447,\n",
              "         -0.28060672, -0.31391899,  0.31581353, -0.24621059, -0.08872685,\n",
              "         -0.22595587, -0.16799906, -0.46393412],\n",
              "        [ 0.26374703, -0.11349172,  0.29092834, -0.07406447,  1.00813008,\n",
              "          0.25667578,  0.21025773, -0.26003426,  0.19601657,  0.20606456,\n",
              "          0.13359768,  0.06633258,  0.41810999],\n",
              "        [ 0.29079481, -0.33735555,  0.18020384, -0.28060672,  0.25667578,\n",
              "          1.00813008,  0.87123661, -0.44979792,  0.62334099, -0.05689854,\n",
              "          0.50664086,  0.71978745,  0.52986924],\n",
              "        [ 0.21835807, -0.41035281,  0.15537535, -0.31391899,  0.21025773,\n",
              "          0.87123661,  1.00813008, -0.54824079,  0.64800868, -0.15864896,\n",
              "          0.60417124,  0.79319622,  0.52836141],\n",
              "        [-0.08111974,  0.33653916,  0.15918823,  0.31581353, -0.26003426,\n",
              "         -0.44979792, -0.54824079,  1.00813008, -0.39989328,  0.19810581,\n",
              "         -0.36629252, -0.57622953, -0.34099709],\n",
              "        [ 0.10436705, -0.21602672, -0.00703776, -0.24621059,  0.19601657,\n",
              "          0.62334099,  0.64800868, -0.39989328,  1.00813008, -0.00330144,\n",
              "          0.32019524,  0.50615495,  0.32976133],\n",
              "        [ 0.54282846,  0.17504154,  0.20549146, -0.08872685,  0.20606456,\n",
              "         -0.05689854, -0.15864896,  0.19810581, -0.00330144,  1.00813008,\n",
              "         -0.45834115, -0.4666752 ,  0.32156154],\n",
              "        [ 0.05893536, -0.551593  ,  0.00665422, -0.22595587,  0.13359768,\n",
              "          0.50664086,  0.60417124, -0.36629252,  0.32019524, -0.45834115,\n",
              "          1.00813008,  0.6435365 ,  0.35356248],\n",
              "        [-0.01797029, -0.40561695,  0.02039019, -0.16799906,  0.06633258,\n",
              "          0.71978745,  0.79319622, -0.57622953,  0.50615495, -0.4666752 ,\n",
              "          0.6435365 ,  1.00813008,  0.26670793],\n",
              "        [ 0.6415292 , -0.24089991,  0.223495  , -0.46393412,  0.41810999,\n",
              "          0.52986924,  0.52836141, -0.34099709,  0.32976133,  0.32156154,\n",
              "          0.35356248,  0.26670793,  1.00813008]]),\n",
              " (13, 13))"
            ]
          },
          "metadata": {},
          "execution_count": 8
        }
      ]
    },
    {
      "cell_type": "code",
      "source": [
        "eigen_vecs.shape, eigen_vecs"
      ],
      "metadata": {
        "colab": {
          "base_uri": "https://localhost:8080/"
        },
        "id": "m6OH0yaFGEj6",
        "outputId": "aa120bc4-1d6c-4447-9a21-3a6b60c12fd9"
      },
      "execution_count": 9,
      "outputs": [
        {
          "output_type": "execute_result",
          "data": {
            "text/plain": [
              "((13, 13),\n",
              " array([[-1.37242175e-01,  5.03034778e-01, -1.37748734e-01,\n",
              "         -3.29610003e-03, -2.90625226e-01,  2.99096847e-01,\n",
              "          7.90529293e-02, -3.68176414e-01, -3.98377017e-01,\n",
              "         -9.44869777e-02,  3.74638877e-01, -1.27834515e-01,\n",
              "          2.62834263e-01],\n",
              "        [ 2.47243265e-01,  1.64871190e-01,  9.61503863e-02,\n",
              "          5.62646692e-01,  8.95378697e-02,  6.27036396e-01,\n",
              "         -2.74002014e-01, -1.25775752e-02,  1.10458230e-01,\n",
              "          2.63652406e-02, -1.37405597e-01,  8.06401578e-02,\n",
              "         -2.66769211e-01],\n",
              "        [-2.54515927e-02,  2.44564761e-01,  6.77775667e-01,\n",
              "         -1.08977111e-01, -1.60834991e-01,  3.89128239e-04,\n",
              "          1.32328045e-01,  1.77578177e-01,  3.82496856e-01,\n",
              "          1.42747511e-01,  4.61583035e-01,  1.67924873e-02,\n",
              "         -1.15542548e-01],\n",
              "        [ 2.06945084e-01, -1.13529045e-01,  6.25040550e-01,\n",
              "          3.38187002e-02,  5.15873402e-02, -4.05836452e-02,\n",
              "          2.23999097e-01, -4.40592110e-01, -2.43373853e-01,\n",
              "         -1.30485780e-01, -4.18953989e-01, -1.10845657e-01,\n",
              "          1.99483410e-01],\n",
              "        [-1.54365821e-01,  2.89745182e-01,  1.96135481e-01,\n",
              "         -3.67511070e-01,  6.76487073e-01,  6.57772614e-02,\n",
              "         -4.05268966e-01,  1.16617503e-01, -2.58982359e-01,\n",
              "         -6.76080782e-02,  1.00470630e-02,  7.93879562e-02,\n",
              "          2.89018810e-02],\n",
              "        [-3.93769523e-01,  5.08010391e-02,  1.40310572e-01,\n",
              "          2.40245127e-01, -1.18511144e-01, -5.89776247e-02,\n",
              "         -3.47419412e-02,  3.50192127e-01, -3.42312860e-01,\n",
              "          4.59917661e-01, -2.21254241e-01, -4.91459313e-01,\n",
              "         -6.63868598e-02],\n",
              "        [-4.17351064e-01, -2.28733792e-02,  1.17053859e-01,\n",
              "          1.87053299e-01, -1.07100349e-01, -3.01103180e-02,\n",
              "          4.17835724e-02,  2.18718183e-01, -3.61231642e-02,\n",
              "         -8.14583947e-01, -4.17513600e-02, -5.03074004e-02,\n",
              "         -2.13349079e-01],\n",
              "        [ 3.05728961e-01,  9.04888470e-02,  1.31217777e-01,\n",
              "         -2.29262234e-02, -5.07581610e-01, -2.71728086e-01,\n",
              "         -6.31145686e-01,  1.97129425e-01, -1.71436883e-01,\n",
              "         -9.57480885e-02, -8.87569452e-02,  1.75328030e-01,\n",
              "          1.86391279e-01],\n",
              "        [-3.06683469e-01,  8.35232677e-03,  3.04309008e-02,\n",
              "          4.96262330e-01,  2.01634619e-01, -4.39997519e-01,\n",
              "         -3.23122775e-01, -4.33055871e-01,  2.44370210e-01,\n",
              "          6.72468934e-02,  1.99921861e-01, -3.67595797e-03,\n",
              "          1.68082985e-01],\n",
              "        [ 7.55406578e-02,  5.49775805e-01, -7.99299713e-02,\n",
              "          1.06482939e-01,  5.73607091e-03, -4.11743459e-01,\n",
              "          2.69082623e-01, -6.68411823e-02, -1.55514919e-01,\n",
              "          8.73336218e-02, -2.21668868e-01,  3.59756535e-01,\n",
              "         -4.66369031e-01],\n",
              "        [-3.26132628e-01, -2.07164328e-01,  5.30591506e-02,\n",
              "         -3.69053747e-01, -2.76914216e-01,  1.41673377e-01,\n",
              "         -3.02640661e-01, -4.59762295e-01,  2.11961247e-02,\n",
              "          1.29061125e-01, -9.84694573e-02,  4.04669797e-02,\n",
              "         -5.32483880e-01],\n",
              "        [-3.68610222e-01, -2.49025357e-01,  1.32391030e-01,\n",
              "          1.42016088e-01, -6.66275572e-02,  1.75842384e-01,\n",
              "          1.30540143e-01,  1.10827548e-01, -2.38089559e-01,\n",
              "          1.87646268e-01,  1.91205783e-02,  7.42229543e-01,\n",
              "          2.37835283e-01],\n",
              "        [-2.96696514e-01,  3.80229423e-01, -7.06502178e-02,\n",
              "         -1.67682173e-01, -1.28029045e-01,  1.38018388e-01,\n",
              "          8.11335043e-04,  5.60817288e-03,  5.17278463e-01,\n",
              "          1.21112574e-02, -5.42532072e-01,  3.87395209e-02,\n",
              "          3.67763359e-01]]))"
            ]
          },
          "metadata": {},
          "execution_count": 9
        }
      ]
    },
    {
      "cell_type": "markdown",
      "source": [
        "### Total and explained variance"
      ],
      "metadata": {
        "id": "Opdlc41BGbbS"
      }
    },
    {
      "cell_type": "code",
      "source": [
        "eigen_vals, sorted(eigen_vals, reverse=True)"
      ],
      "metadata": {
        "colab": {
          "base_uri": "https://localhost:8080/"
        },
        "id": "CvekI953Mjv0",
        "outputId": "9dba5616-9a57-4b4f-c221-fe5889338701"
      },
      "execution_count": 10,
      "outputs": [
        {
          "output_type": "execute_result",
          "data": {
            "text/plain": [
              "(array([4.84274532, 2.41602459, 1.54845825, 0.96120438, 0.84166161,\n",
              "        0.6620634 , 0.51828472, 0.34650377, 0.3131368 , 0.10754642,\n",
              "        0.21357215, 0.15362835, 0.1808613 ]),\n",
              " [np.float64(4.8427453156558915),\n",
              "  np.float64(2.4160245870352246),\n",
              "  np.float64(1.5484582488203518),\n",
              "  np.float64(0.9612043774977352),\n",
              "  np.float64(0.8416616104578422),\n",
              "  np.float64(0.6620634040383028),\n",
              "  np.float64(0.5182847213561956),\n",
              "  np.float64(0.34650376641286684),\n",
              "  np.float64(0.3131368004720883),\n",
              "  np.float64(0.21357214660527363),\n",
              "  np.float64(0.18086130479496632),\n",
              "  np.float64(0.15362835006711043),\n",
              "  np.float64(0.10754642369671003)])"
            ]
          },
          "metadata": {},
          "execution_count": 10
        }
      ]
    },
    {
      "cell_type": "code",
      "source": [
        "# calculate cumulative sum of explained variances\n",
        "total = sum(eigen_vals)\n",
        "var_exp = [(i / total) for i in sorted(eigen_vals, reverse=True)]\n",
        "cum_var_exp = np.cumsum(var_exp)\n",
        "\n",
        "import matplotlib.pyplot as plt\n",
        "\n",
        "# plot the variance explained ratios of eigenvalues\n",
        "plt.bar(range(1, 14),\n",
        "        var_exp,\n",
        "        align='center',\n",
        "        label='Individual explained variance')\n",
        "plt.step(range(1, 14),\n",
        "         cum_var_exp,\n",
        "         where='mid',\n",
        "         label='Cumulative explained variance')\n",
        "plt.ylabel('Explained variance ratio')\n",
        "plt.xlabel('Prinipal component index')\n",
        "plt.legend(loc='best')\n",
        "plt.tight_layout()\n",
        "plt.show()\n",
        "\n"
      ],
      "metadata": {
        "colab": {
          "base_uri": "https://localhost:8080/",
          "height": 487
        },
        "id": "oOyTDIWGLmRk",
        "outputId": "66a3922a-0a90-429b-a7d3-11cdb0754009"
      },
      "execution_count": 11,
      "outputs": [
        {
          "output_type": "display_data",
          "data": {
            "text/plain": [
              "<Figure size 640x480 with 1 Axes>"
            ],
            "image/png": "[encoded data removed]"
          },
          "metadata": {}
        }
      ]
    },
    {
      "cell_type": "markdown",
      "source": [
        "### Feature transformation\n",
        "\n",
        "1. Select *k* eigenvectors, which corresponds to the *k* largest eigenvalues, where *k* is the dimensionality of the new feature subspace (k <= d).\n",
        "2. Construct a projection matrix, W, from the \"top\" *k* eigen vectors.\n",
        "3. Transform the dimensional input dataset, X, using the projection matrix, W, to obtain the new k-dimensional feature subspace.\n",
        "\n",
        "In less technical terms, we will sort the eigenpairs by descending order of the eigenvalues, construct a projection matrix from the selected eigenvectors, and use the projection matrix to transform the data onto the lower-dimensional subspace.\n",
        "\n",
        "\n",
        "\n",
        "\n"
      ],
      "metadata": {
        "id": "JIS6QFzjMYsO"
      }
    },
    {
      "cell_type": "code",
      "source": [
        "# make a list of (eigenvalue, eigenvector) tuples\n",
        "eigen_pairs = [(np.abs(eigen_vals[i]), eigen_vecs[:, i])\n",
        "                for i in range(len(eigen_vals))]\n",
        "\n",
        "# sort (eigenvalue, eigenvector) tuples from high to low\n",
        "eigen_pairs.sort(key=lambda k: k[0], reverse=True)"
      ],
      "metadata": {
        "id": "g7tCuyu8Yg0b"
      },
      "execution_count": 12,
      "outputs": []
    },
    {
      "cell_type": "code",
      "source": [
        "eigen_pairs"
      ],
      "metadata": {
        "colab": {
          "base_uri": "https://localhost:8080/"
        },
        "id": "LcFdYPsbZCFl",
        "outputId": "8553f250-153a-47ab-d36e-5fdab0af2b41"
      },
      "execution_count": 13,
      "outputs": [
        {
          "output_type": "execute_result",
          "data": {
            "text/plain": [
              "[(np.float64(4.8427453156558915),\n",
              "  array([-0.13724218,  0.24724326, -0.02545159,  0.20694508, -0.15436582,\n",
              "         -0.39376952, -0.41735106,  0.30572896, -0.30668347,  0.07554066,\n",
              "         -0.32613263, -0.36861022, -0.29669651])),\n",
              " (np.float64(2.4160245870352246),\n",
              "  array([ 0.50303478,  0.16487119,  0.24456476, -0.11352904,  0.28974518,\n",
              "          0.05080104, -0.02287338,  0.09048885,  0.00835233,  0.54977581,\n",
              "         -0.20716433, -0.24902536,  0.38022942])),\n",
              " (np.float64(1.5484582488203518),\n",
              "  array([-0.13774873,  0.09615039,  0.67777567,  0.62504055,  0.19613548,\n",
              "          0.14031057,  0.11705386,  0.13121778,  0.0304309 , -0.07992997,\n",
              "          0.05305915,  0.13239103, -0.07065022])),\n",
              " (np.float64(0.9612043774977352),\n",
              "  array([-0.0032961 ,  0.56264669, -0.10897711,  0.0338187 , -0.36751107,\n",
              "          0.24024513,  0.1870533 , -0.02292622,  0.49626233,  0.10648294,\n",
              "         -0.36905375,  0.14201609, -0.16768217])),\n",
              " (np.float64(0.8416616104578422),\n",
              "  array([-0.29062523,  0.08953787, -0.16083499,  0.05158734,  0.67648707,\n",
              "         -0.11851114, -0.10710035, -0.50758161,  0.20163462,  0.00573607,\n",
              "         -0.27691422, -0.06662756, -0.12802904])),\n",
              " (np.float64(0.6620634040383028),\n",
              "  array([ 2.99096847e-01,  6.27036396e-01,  3.89128239e-04, -4.05836452e-02,\n",
              "          6.57772614e-02, -5.89776247e-02, -3.01103180e-02, -2.71728086e-01,\n",
              "         -4.39997519e-01, -4.11743459e-01,  1.41673377e-01,  1.75842384e-01,\n",
              "          1.38018388e-01])),\n",
              " (np.float64(0.5182847213561956),\n",
              "  array([ 0.07905293, -0.27400201,  0.13232805,  0.2239991 , -0.40526897,\n",
              "         -0.03474194,  0.04178357, -0.63114569, -0.32312277,  0.26908262,\n",
              "         -0.30264066,  0.13054014,  0.00081134])),\n",
              " (np.float64(0.34650376641286684),\n",
              "  array([-0.36817641, -0.01257758,  0.17757818, -0.44059211,  0.1166175 ,\n",
              "          0.35019213,  0.21871818,  0.19712942, -0.43305587, -0.06684118,\n",
              "         -0.45976229,  0.11082755,  0.00560817])),\n",
              " (np.float64(0.3131368004720883),\n",
              "  array([-0.39837702,  0.11045823,  0.38249686, -0.24337385, -0.25898236,\n",
              "         -0.34231286, -0.03612316, -0.17143688,  0.24437021, -0.15551492,\n",
              "          0.02119612, -0.23808956,  0.51727846])),\n",
              " (np.float64(0.21357214660527363),\n",
              "  array([ 0.37463888, -0.1374056 ,  0.46158303, -0.41895399,  0.01004706,\n",
              "         -0.22125424, -0.04175136, -0.08875695,  0.19992186, -0.22166887,\n",
              "         -0.09846946,  0.01912058, -0.54253207])),\n",
              " (np.float64(0.18086130479496632),\n",
              "  array([ 0.26283426, -0.26676921, -0.11554255,  0.19948341,  0.02890188,\n",
              "         -0.06638686, -0.21334908,  0.18639128,  0.16808299, -0.46636903,\n",
              "         -0.53248388,  0.23783528,  0.36776336])),\n",
              " (np.float64(0.15362835006711043),\n",
              "  array([-0.12783451,  0.08064016,  0.01679249, -0.11084566,  0.07938796,\n",
              "         -0.49145931, -0.0503074 ,  0.17532803, -0.00367596,  0.35975654,\n",
              "          0.04046698,  0.74222954,  0.03873952])),\n",
              " (np.float64(0.10754642369671003),\n",
              "  array([-0.09448698,  0.02636524,  0.14274751, -0.13048578, -0.06760808,\n",
              "          0.45991766, -0.81458395, -0.09574809,  0.06724689,  0.08733362,\n",
              "          0.12906113,  0.18764627,  0.01211126]))]"
            ]
          },
          "metadata": {},
          "execution_count": 13
        }
      ]
    },
    {
      "cell_type": "code",
      "source": [
        "# collect two eigenvectors corresponding to two largest eigenvalues\n",
        "# which captures 60 percent of the variance in this dataset\n",
        "w = np.hstack((eigen_pairs[0][1][:, np.newaxis],\n",
        "               eigen_pairs[1][1][:, np.newaxis]))\n",
        "print('Matrix W:\\n', w)"
      ],
      "metadata": {
        "colab": {
          "base_uri": "https://localhost:8080/"
        },
        "id": "4KPf8TlJZHeQ",
        "outputId": "cc0bd1e4-c2dd-4b36-db3d-05baff6ee325"
      },
      "execution_count": 14,
      "outputs": [
        {
          "output_type": "stream",
          "name": "stdout",
          "text": [
            "Matrix W:\n",
            " [[-0.13724218  0.50303478]\n",
            " [ 0.24724326  0.16487119]\n",
            " [-0.02545159  0.24456476]\n",
            " [ 0.20694508 -0.11352904]\n",
            " [-0.15436582  0.28974518]\n",
            " [-0.39376952  0.05080104]\n",
            " [-0.41735106 -0.02287338]\n",
            " [ 0.30572896  0.09048885]\n",
            " [-0.30668347  0.00835233]\n",
            " [ 0.07554066  0.54977581]\n",
            " [-0.32613263 -0.20716433]\n",
            " [-0.36861022 -0.24902536]\n",
            " [-0.29669651  0.38022942]]\n"
          ]
        }
      ]
    },
    {
      "cell_type": "code",
      "source": [
        "X_train_std[0], X_train_std[0].shape"
      ],
      "metadata": {
        "colab": {
          "base_uri": "https://localhost:8080/"
        },
        "id": "7H_UnXlEa_oZ",
        "outputId": "25ec9949-56ea-4760-bee7-7149a20d9b19"
      },
      "execution_count": 15,
      "outputs": [
        {
          "output_type": "execute_result",
          "data": {
            "text/plain": [
              "(array([ 0.71225893,  2.22048673, -0.13025864,  0.05962872, -0.50432733,\n",
              "        -0.52831584, -1.24000033,  0.84118003, -1.05215112, -0.29218864,\n",
              "        -0.20017028, -0.82164144, -0.62946362]),\n",
              " (13,))"
            ]
          },
          "metadata": {},
          "execution_count": 15
        }
      ]
    },
    {
      "cell_type": "code",
      "source": [
        "w.shape"
      ],
      "metadata": {
        "colab": {
          "base_uri": "https://localhost:8080/"
        },
        "id": "GBdewHxTbQYS",
        "outputId": "8a55aa51-fe6d-49ba-d0ce-5d0a66d42832"
      },
      "execution_count": 16,
      "outputs": [
        {
          "output_type": "execute_result",
          "data": {
            "text/plain": [
              "(13, 2)"
            ]
          },
          "metadata": {},
          "execution_count": 16
        }
      ]
    },
    {
      "cell_type": "code",
      "source": [
        "# transform an example onto PCA subspace\n",
        "X_train_std[0].dot(w)"
      ],
      "metadata": {
        "colab": {
          "base_uri": "https://localhost:8080/"
        },
        "id": "xrywpoxbZ_VI",
        "outputId": "4cd6328a-c7d1-4ba9-cb2f-964be413395f"
      },
      "execution_count": 17,
      "outputs": [
        {
          "output_type": "execute_result",
          "data": {
            "text/plain": [
              "array([2.38299011, 0.45458499])"
            ]
          },
          "metadata": {},
          "execution_count": 17
        }
      ]
    },
    {
      "cell_type": "code",
      "source": [
        "# transform entire 124x13-dimensional training dataset\n",
        "# onto PCA\n",
        "X_train_pca = X_train_std.dot(w)\n",
        "X_train_pca.shape"
      ],
      "metadata": {
        "colab": {
          "base_uri": "https://localhost:8080/"
        },
        "id": "T_yyhowxbD95",
        "outputId": "dd84912b-6ca2-4095-de3d-0c3e39c94a49"
      },
      "execution_count": 18,
      "outputs": [
        {
          "output_type": "execute_result",
          "data": {
            "text/plain": [
              "(124, 2)"
            ]
          },
          "metadata": {},
          "execution_count": 18
        }
      ]
    },
    {
      "cell_type": "code",
      "source": [
        "X_train_pca[:3]"
      ],
      "metadata": {
        "colab": {
          "base_uri": "https://localhost:8080/"
        },
        "id": "lVXs_uY9cUio",
        "outputId": "a6263658-64a9-4731-8454-c7aec89059bf"
      },
      "execution_count": 19,
      "outputs": [
        {
          "output_type": "execute_result",
          "data": {
            "text/plain": [
              "array([[ 2.38299011,  0.45458499],\n",
              "       [-1.96578183,  1.65376939],\n",
              "       [-2.53907598,  1.02909066]])"
            ]
          },
          "metadata": {},
          "execution_count": 19
        }
      ]
    },
    {
      "cell_type": "code",
      "source": [
        "# visualize tranformed dataset\n",
        "colors = ['r', 'b', 'g']\n",
        "markers = ['o', 's', '^']\n",
        "\n",
        "for l, c, m in zip(np.unique(y_train), colors, markers):\n",
        "  plt.scatter(X_train_pca[y_train==l, 0],\n",
        "              X_train_pca[y_train==l, 1],\n",
        "              c=c,\n",
        "              label=f\"Class {l}\",\n",
        "              marker=m)\n",
        "plt.xlabel('PC 1')\n",
        "plt.ylabel('PC 2')\n",
        "plt.legend(loc='lower left')\n",
        "plt.tight_layout()\n",
        "plt.show()"
      ],
      "metadata": {
        "colab": {
          "base_uri": "https://localhost:8080/",
          "height": 487
        },
        "id": "iPtjRqzXcZv2",
        "outputId": "7d85c417-b69f-4777-8723-8bd81dec4af5"
      },
      "execution_count": 20,
      "outputs": [
        {
          "output_type": "display_data",
          "data": {
            "text/plain": [
              "<Figure size 640x480 with 1 Axes>"
            ],
            "image/png": "[encoded data removed]"
          },
          "metadata": {}
        }
      ]
    },
    {
      "cell_type": "markdown",
      "source": [
        "### Principle component analysis in scikit-learn"
      ],
      "metadata": {
        "id": "-KH6jw1YdCeI"
      }
    },
    {
      "cell_type": "code",
      "source": [
        "from matplotlib.colors import ListedColormap\n",
        "\n",
        "def plot_decision_regions(X, y, classifier,\n",
        "                          test_idx=None,\n",
        "                          resolution=0.02):\n",
        "  # set up markers and color map\n",
        "  markers = ['o', 's', '^', 'v', '<']\n",
        "  colors = ['red', 'blue', 'lightgreen', 'gray', 'cyan']\n",
        "  cmap = ListedColormap(colors[:len(np.unique(y))])\n",
        "\n",
        "  x1_min, x1_max = X[:, 0].min() - 1, X[:, 0].max() + 1\n",
        "  x2_min, x2_max = X[:, 1].min() - 1, X[:, 1].max() + 1\n",
        "  xx1, xx2 = np.meshgrid(np.arange(x1_min, x1_max, resolution),\n",
        "                         np.arange(x2_min, x2_max, resolution))\n",
        "  lab = classifier.predict(np.array([xx1.ravel(),\n",
        "                                     xx2.ravel()]).T)\n",
        "  lab = lab.reshape(xx1.shape)\n",
        "  plt.contourf(xx1, xx2, lab, alpha=0.3, cmap=cmap)\n",
        "  plt.xlim(xx1.min(), xx1.max())\n",
        "  plt.ylim(xx2.min(), xx2.max())\n",
        "\n",
        "  # plot class examples\n",
        "  for idx, cl in enumerate(np.unique(y)):\n",
        "    plt.scatter(x=X[y == cl, 0],\n",
        "                y=X[y == cl, 1],\n",
        "                alpha=0.8,\n",
        "                c=colors[idx],\n",
        "                marker=markers[idx],\n",
        "                label=f\"Class {cl}\",\n",
        "                edgecolor='black')\n",
        ""
      ],
      "metadata": {
        "id": "rjwxGEDF2t7N"
      },
      "execution_count": 21,
      "outputs": []
    },
    {
      "cell_type": "code",
      "source": [
        "from sklearn.linear_model import LogisticRegression\n",
        "from sklearn.decomposition import PCA\n",
        "\n",
        "# initialze PCA transformer and log reg estimator\n",
        "pca = PCA(n_components=2)\n",
        "lr = LogisticRegression(multi_class='ovr',\n",
        "                        random_state=1,\n",
        "                        solver='lbfgs')\n",
        "\n",
        "# dimensionality reduction\n",
        "X_train_pca = pca.fit_transform(X_train_std)\n",
        "X_test_pca = pca.transform(X_test_std)\n",
        "\n",
        "# fit log reg model on reduced dataset\n",
        "lr.fit(X_train_pca, y_train)\n",
        "\n",
        "# plot the result\n",
        "plot_decision_regions(X=X_train_pca,\n",
        "                      y=y_train,\n",
        "                      classifier=lr)\n",
        "plt.xlabel('PC 1')\n",
        "plt.ylabel('PC 2')\n",
        "plt.legend(loc='upper left')\n",
        "plt.tight_layout()\n",
        "plt.show()"
      ],
      "metadata": {
        "colab": {
          "base_uri": "https://localhost:8080/",
          "height": 542
        },
        "id": "1GiwBOKj7iOw",
        "outputId": "b8d7b220-00e6-4018-9c39-d78fa9840af2"
      },
      "execution_count": 22,
      "outputs": [
        {
          "output_type": "stream",
          "name": "stderr",
          "text": [
            "/usr/local/lib/python3.11/dist-packages/sklearn/linear_model/_logistic.py:1256: FutureWarning: 'multi_class' was deprecated in version 1.5 and will be removed in 1.7. Use OneVsRestClassifier(LogisticRegression(..)) instead. Leave it to its default value to avoid this warning.\n",
            "  warnings.warn(\n"
          ]
        },
        {
          "output_type": "display_data",
          "data": {
            "text/plain": [
              "<Figure size 640x480 with 1 Axes>"
            ],
            "image/png": "[encoded data removed]"
          },
          "metadata": {}
        }
      ]
    },
    {
      "cell_type": "code",
      "source": [
        "# plot results on test set\n",
        "plot_decision_regions(X=X_test_pca,\n",
        "                      y=y_test,\n",
        "                      classifier=lr)\n",
        "plt.xlabel('PC 1')\n",
        "plt.ylabel('PC 2')\n",
        "plt.legend(loc='upper left')\n",
        "plt.tight_layout()\n",
        "plt.show()"
      ],
      "metadata": {
        "colab": {
          "base_uri": "https://localhost:8080/",
          "height": 487
        },
        "id": "STXp1SdU8XjA",
        "outputId": "41d3efe2-8ac6-4598-ee29-79ed5a2e9677"
      },
      "execution_count": 23,
      "outputs": [
        {
          "output_type": "display_data",
          "data": {
            "text/plain": [
              "<Figure size 640x480 with 1 Axes>"
            ],
            "image/png": "[encoded data removed]"
          },
          "metadata": {}
        }
      ]
    },
    {
      "cell_type": "code",
      "source": [
        "# keep all principal components\n",
        "pca = PCA(n_components=None)\n",
        "X_train_pca = pca.fit_transform(X_train_std)\n",
        "pca.explained_variance_ratio_"
      ],
      "metadata": {
        "colab": {
          "base_uri": "https://localhost:8080/"
        },
        "id": "w_Znu5WO99XM",
        "outputId": "e0e4a8ee-2279-43fa-f9e9-5b16532c7534"
      },
      "execution_count": 24,
      "outputs": [
        {
          "output_type": "execute_result",
          "data": {
            "text/plain": [
              "array([0.36951469, 0.18434927, 0.11815159, 0.07334252, 0.06422108,\n",
              "       0.05051724, 0.03954654, 0.02643918, 0.02389319, 0.01629614,\n",
              "       0.01380021, 0.01172226, 0.00820609])"
            ]
          },
          "metadata": {},
          "execution_count": 24
        }
      ]
    },
    {
      "cell_type": "markdown",
      "source": [
        "### Assessing feature contributions"
      ],
      "metadata": {
        "id": "yxNfVYBt-Roz"
      }
    },
    {
      "cell_type": "code",
      "source": [
        "# compute 13x13-dimensional loadings matrix\n",
        "loadings = eigen_vecs * np.sqrt(eigen_vals)\n",
        "loadings"
      ],
      "metadata": {
        "colab": {
          "base_uri": "https://localhost:8080/"
        },
        "id": "owmuyQbk-a8C",
        "outputId": "bbd001cb-0611-4511-f704-2818ed4a7fb7"
      },
      "execution_count": 25,
      "outputs": [
        {
          "output_type": "execute_result",
          "data": {
            "text/plain": [
              "array([[-3.02018404e-01,  7.81895450e-01, -1.71410478e-01,\n",
              "        -3.23153045e-03, -2.66625736e-01,  2.43366965e-01,\n",
              "         5.69117802e-02, -2.16725465e-01, -2.22926311e-01,\n",
              "        -3.09863159e-02,  1.73135111e-01, -5.01053166e-02,\n",
              "         1.11777607e-01],\n",
              "       [ 5.44089424e-01,  2.56268630e-01,  1.19646716e-01,\n",
              "         5.51624618e-01,  8.21439376e-02,  5.10202452e-01,\n",
              "        -1.97259514e-01, -7.40373561e-03,  6.18109097e-02,\n",
              "         8.64628855e-03, -6.35004393e-02,  3.16072748e-02,\n",
              "        -1.13451054e-01],\n",
              "       [-5.60093818e-02,  3.80140862e-01,  8.43404129e-01,\n",
              "        -1.06842283e-01, -1.47553427e-01,  3.16623058e-04,\n",
              "         9.52655986e-02,  1.04530631e-01,  2.14039991e-01,\n",
              "         4.68130063e-02,  2.13315368e-01,  6.58189138e-03,\n",
              "        -4.91376938e-02],\n",
              "       [ 4.55408287e-01, -1.76464625e-01,  7.77782099e-01,\n",
              "         3.31562024e-02,  4.73273183e-02, -3.30218077e-02,\n",
              "         1.61261417e-01, -2.59352653e-01, -1.36188668e-01,\n",
              "        -4.27918609e-02, -1.93614837e-01, -4.34464567e-02,\n",
              "         8.48358888e-02],\n",
              "       [-3.39701108e-01,  4.50367349e-01,  2.44065231e-01,\n",
              "        -3.60311643e-01,  6.20623565e-01,  5.35211676e-02,\n",
              "        -2.91761210e-01,  6.86463922e-02, -1.44922974e-01,\n",
              "        -2.21715766e-02,  4.64313631e-03,  3.11164687e-02,\n",
              "         1.22913317e-02],\n",
              "       [-8.66538603e-01,  7.89629328e-02,  1.74598354e-01,\n",
              "         2.35538799e-01, -1.08724633e-01, -4.79884882e-02,\n",
              "        -2.50114163e-02,  2.06139091e-01, -1.91553579e-01,\n",
              "         1.50826646e-01, -1.02250140e-01, -1.92629702e-01,\n",
              "        -2.82328653e-02],\n",
              "       [-9.18432703e-01, -3.55533891e-02,  1.45658384e-01,\n",
              "         1.83388983e-01, -9.82561276e-02, -2.44999463e-02,\n",
              "         3.00808270e-02,  1.28747519e-01, -2.02140270e-02,\n",
              "        -2.67136870e-01, -1.92949178e-02, -1.97182133e-02,\n",
              "        -9.07326513e-02],\n",
              "       [ 6.72794442e-01,  1.40651941e-01,  1.63283547e-01,\n",
              "        -2.24771058e-02, -4.65666117e-01, -2.21097749e-01,\n",
              "        -4.54374365e-01,  1.16039389e-01, -9.59337270e-02,\n",
              "        -3.13998880e-02, -4.10180162e-02,  6.87206149e-02,\n",
              "         7.92680944e-02],\n",
              "       [-6.74894956e-01,  1.29824946e-02,  3.78673190e-02,\n",
              "         4.86540705e-01,  1.84983869e-01, -3.58014007e-01,\n",
              "        -2.32622529e-01, -2.54916478e-01,  1.36746216e-01,\n",
              "         2.20531287e-02,  9.23916222e-02, -1.44080836e-03,\n",
              "         7.14819815e-02],\n",
              "       [ 1.66236573e-01,  8.54547677e-01, -9.94625082e-02,\n",
              "         1.04396971e-01,  5.26239291e-03, -3.35024448e-01,\n",
              "         1.93717946e-01, -3.93457749e-02, -8.70240145e-02,\n",
              "         2.86404250e-02, -1.02441755e-01,  1.41008202e-01,\n",
              "        -1.98336449e-01],\n",
              "       [-7.17695238e-01, -3.22007250e-01,  6.60252483e-02,\n",
              "        -3.61824099e-01, -2.54046965e-01,  1.15275772e-01,\n",
              "        -2.17877047e-01, -2.70637100e-01,  1.18610605e-02,\n",
              "         4.23246557e-02, -4.55065437e-02,  1.58612158e-02,\n",
              "        -2.26453634e-01],\n",
              "       [-8.11172446e-01, -3.87074219e-01,  1.64743508e-01,\n",
              "         1.39234037e-01, -6.11255318e-02,  1.43078163e-01,\n",
              "         9.39784518e-02,  6.52381601e-02, -1.33231650e-01,\n",
              "         6.15372263e-02,  8.83635853e-03,  2.90920228e-01,\n",
              "         1.01146093e-01],\n",
              "       [-6.52917425e-01,  5.91012131e-01, -8.79150555e-02,\n",
              "        -1.64397331e-01, -1.17456556e-01,  1.12301806e-01,\n",
              "         5.84096276e-04,  3.30122688e-03,  2.89461929e-01,\n",
              "         3.97179863e-03, -2.50725048e-01,  1.51841305e-02,\n",
              "         1.56401635e-01]])"
            ]
          },
          "metadata": {},
          "execution_count": 25
        }
      ]
    },
    {
      "cell_type": "code",
      "source": [
        "# plot loadings for first principal components\n",
        "fig, ax = plt.subplots()\n",
        "ax.bar(range(13),\n",
        "       loadings[:, 0],\n",
        "       align='center')\n",
        "ax.set_ylabel('Loadings for PC 1')\n",
        "ax.set_xticks(range(13))\n",
        "ax.set_xticklabels(df_wine.columns[1:],\n",
        "                   rotation=90)\n",
        "plt.ylim([-1, 1])\n",
        "plt.tight_layout()\n",
        "plt.show()"
      ],
      "metadata": {
        "colab": {
          "base_uri": "https://localhost:8080/",
          "height": 487
        },
        "id": "IKpO73Rl-o2Y",
        "outputId": "a4b3b3c0-c4d9-4905-e186-196ebc8fa037"
      },
      "execution_count": 26,
      "outputs": [
        {
          "output_type": "display_data",
          "data": {
            "text/plain": [
              "<Figure size 640x480 with 1 Axes>"
            ],
            "image/png": "[encoded data removed]"
          },
          "metadata": {}
        }
      ]
    },
    {
      "cell_type": "code",
      "source": [
        "sklearn_loadings = pca.components_.T * np.sqrt(pca.explained_variance_)"
      ],
      "metadata": {
        "id": "xx2sd1Gt_E1g"
      },
      "execution_count": 27,
      "outputs": []
    },
    {
      "cell_type": "code",
      "source": [
        "# compare scikit-learn PCA loadings with the previous\n",
        "fig, ax = plt.subplots()\n",
        "ax.bar(range(13),\n",
        "       sklearn_loadings[:, 0],\n",
        "       align='center')\n",
        "ax.set_ylabel('Loadings for PC 1')\n",
        "ax.set_xticks(range(13))\n",
        "ax.set_xticklabels(df_wine.columns[1:],\n",
        "                   rotation=90)\n",
        "plt.ylim([-1, 1])\n",
        "plt.tight_layout()\n",
        "plt.show()"
      ],
      "metadata": {
        "colab": {
          "base_uri": "https://localhost:8080/",
          "height": 487
        },
        "id": "NOY8kzLmATnp",
        "outputId": "b4164473-fe5c-4127-d0c2-1343891cc0da"
      },
      "execution_count": 28,
      "outputs": [
        {
          "output_type": "display_data",
          "data": {
            "text/plain": [
              "<Figure size 640x480 with 1 Axes>"
            ],
            "image/png": "[encoded data removed]"
          },
          "metadata": {}
        }
      ]
    },
    {
      "cell_type": "markdown",
      "source": [
        "## Supervised data compression via Linear Discriminant analysis"
      ],
      "metadata": {
        "id": "7sAuz-4sA71w"
      }
    },
    {
      "cell_type": "markdown",
      "source": [
        "The main steps for LDA:\n",
        "\n",
        "1. Standardize the d-dimensional dataset (d is number of features)\n",
        "2. For each class, compute the d-dimensional mean vector.\n",
        "3. Construct the between-class scatter matrix, S_B, and the within-class scatter matrix, S_w\n",
        "4. Compute the eigenvectors and corresponding eigenvalues of the matrix.\n",
        "5. Sort the eigenvalues by decreasing order to rank the corresponding eigenvectors.\n",
        "6. Choose the *k* eigenvectors that correspond to the *k* largest eigenvalues to construct a *dxk*-dimensional transformation matrix, *W*; the eigenvectors are the columns of this matrix.\n",
        "7. Projec the examples onto the new feature subspace using the transformation matrix, *W*."
      ],
      "metadata": {
        "id": "JkuHpMgEBAkO"
      }
    },
    {
      "cell_type": "markdown",
      "source": [
        "### Computing the scatter matrices"
      ],
      "metadata": {
        "id": "0I6Kgmq0X8m8"
      }
    },
    {
      "cell_type": "code",
      "source": [
        "# redownload the Wine dataset\n",
        "import pandas as pd\n",
        "\n",
        "df_wine = pd.read_csv('https://archive.ics.uci.edu/ml/machine-learning-databases/wine/wine.data', header=None)\n"
      ],
      "metadata": {
        "id": "5n8un-ppYTAJ"
      },
      "execution_count": 29,
      "outputs": []
    },
    {
      "cell_type": "code",
      "source": [
        "# extract features and labels\n",
        "X, y = df_wine.iloc[:, 1:].values, df_wine.iloc[:, 0].values"
      ],
      "metadata": {
        "id": "TM73A2DVYcJC"
      },
      "execution_count": 30,
      "outputs": []
    },
    {
      "cell_type": "code",
      "source": [
        "# split dataset into training and test sets\n",
        "from sklearn.model_selection import train_test_split\n",
        "\n",
        "X_train, X_test, y_train, y_test = train_test_split(\n",
        "    X, y,\n",
        "    test_size=0.3,\n",
        "    random_state=0,\n",
        "    stratify=y\n",
        ")"
      ],
      "metadata": {
        "id": "mpYrP-UHYlZt"
      },
      "execution_count": 31,
      "outputs": []
    },
    {
      "cell_type": "code",
      "source": [
        "# 1. standardize dataset\n",
        "from sklearn.preprocessing import StandardScaler\n",
        "\n",
        "sc = StandardScaler()\n",
        "X_train_std = sc.fit_transform(X_train)\n",
        "X_test_std = sc.transform(X_test)"
      ],
      "metadata": {
        "id": "3MKPcbGvY5UX"
      },
      "execution_count": 32,
      "outputs": []
    },
    {
      "cell_type": "code",
      "source": [
        "# 2. compute mean vectors for each of three labels/classes\n",
        "np.set_printoptions(precision=4)\n",
        "\n",
        "mean_vecs = []\n",
        "for label in range(1, 4):\n",
        "  mean_vecs.append(np.mean(X_train_std[y_train==label], axis=0))\n",
        "  print(f'MV {label}: {mean_vecs[label - 1]}\\n')"
      ],
      "metadata": {
        "colab": {
          "base_uri": "https://localhost:8080/"
        },
        "id": "EWBr4TOBZGeL",
        "outputId": "aa1a708b-c2ae-4203-82c8-12005dcffaeb"
      },
      "execution_count": 33,
      "outputs": [
        {
          "output_type": "stream",
          "name": "stdout",
          "text": [
            "MV 1: [ 0.9066 -0.3497  0.3201 -0.7189  0.5056  0.8807  0.9589 -0.5516  0.5416\n",
            "  0.2338  0.5897  0.6563  1.2075]\n",
            "\n",
            "MV 2: [-0.8749 -0.2848 -0.3735  0.3157 -0.3848 -0.0433  0.0635 -0.0946  0.0703\n",
            " -0.8286  0.3144  0.3608 -0.7253]\n",
            "\n",
            "MV 3: [ 0.1992  0.866   0.1682  0.4148 -0.0451 -1.0286 -1.2876  0.8287 -0.7795\n",
            "  0.9649 -1.209  -1.3622 -0.4013]\n",
            "\n"
          ]
        }
      ]
    },
    {
      "cell_type": "code",
      "source": [
        "# compute within-class scatter matrix\n",
        "d = 13 # number of features\n",
        "S_W = np.zeros((d, d))\n",
        "\n",
        "for label, mv in zip(range(1, 4), mean_vecs):\n",
        "  class_scatter = np.zeros((d, d))\n",
        "  for row in X_train_std[y_train == label]:\n",
        "    row, mv = row.reshape(d, 1), mv.reshape(d, 1)\n",
        "    class_scatter += (row - mv).dot((row - mv).T)\n",
        "  S_W += class_scatter\n",
        "\n",
        "print(f'Within-class scatter matrix: {S_W.shape[0]}x{S_W.shape[1]}')"
      ],
      "metadata": {
        "colab": {
          "base_uri": "https://localhost:8080/"
        },
        "id": "_5Q71hPFZtEq",
        "outputId": "bc53d8db-aab9-47f4-d658-20388e566884"
      },
      "execution_count": 34,
      "outputs": [
        {
          "output_type": "stream",
          "name": "stdout",
          "text": [
            "Within-class scatter matrix: 13x13\n"
          ]
        }
      ]
    },
    {
      "cell_type": "code",
      "source": [
        "# class labels in training dataset are not uniformly distributed\n",
        "print(f'Class label distribution: {np.bincount(y_train)[1:]}')"
      ],
      "metadata": {
        "colab": {
          "base_uri": "https://localhost:8080/"
        },
        "id": "0XiXuVTragZW",
        "outputId": "b0b36f9c-5b4b-4638-f1c7-e289cdb6b52c"
      },
      "execution_count": 35,
      "outputs": [
        {
          "output_type": "stream",
          "name": "stdout",
          "text": [
            "Class label distribution: [41 50 33]\n"
          ]
        }
      ]
    },
    {
      "cell_type": "code",
      "source": [
        "# compute scaled within-class scatter matrix\n",
        "d = 13 # number of features\n",
        "S_W = np.zeros((d, d))\n",
        "\n",
        "for label, mv in zip(range(1, 4), mean_vecs):\n",
        "  class_scatter = np.cov(X_train_std[y_train==label].T)\n",
        "  S_W += class_scatter\n",
        "\n",
        "print(f'Scaled within-class scatter matrix: {S_W.shape[0]}x{S_W.shape[1]}')"
      ],
      "metadata": {
        "colab": {
          "base_uri": "https://localhost:8080/"
        },
        "id": "-u03HERabMeN",
        "outputId": "e571ff9b-40a7-465d-d284-ca9abc3d8254"
      },
      "execution_count": 36,
      "outputs": [
        {
          "output_type": "stream",
          "name": "stdout",
          "text": [
            "Scaled within-class scatter matrix: 13x13\n"
          ]
        }
      ]
    },
    {
      "cell_type": "code",
      "source": [
        "S_W"
      ],
      "metadata": {
        "colab": {
          "base_uri": "https://localhost:8080/"
        },
        "id": "OfinZUkhbtvq",
        "outputId": "5d01186e-126e-4680-dfbc-02161a84ebcd"
      },
      "execution_count": 37,
      "outputs": [
        {
          "output_type": "execute_result",
          "data": {
            "text/plain": [
              "array([[ 1.2448,  0.0967, -0.1276, -0.1105, -0.0726,  0.2374,  0.0753,\n",
              "         0.0231,  0.1102,  0.4261,  0.1411, -0.0155,  0.1224],\n",
              "       [ 0.0967,  2.2666,  0.1168,  0.3517, -0.2622, -0.0467, -0.0186,\n",
              "         0.2194,  0.0187, -0.3939, -0.4167,  0.0787, -0.2492],\n",
              "       [-0.1276,  0.1168,  2.6024,  1.6442,  0.5364,  0.3947,  0.3191,\n",
              "         0.4553, -0.0353,  0.06  ,  0.167 ,  0.1987, -0.0081],\n",
              "       [-0.1105,  0.3517,  1.6442,  2.1604,  0.325 ,  0.1535,  0.1222,\n",
              "         0.273 , -0.0824, -0.068 ,  0.0336,  0.2548, -0.1201],\n",
              "       [-0.0726, -0.2622,  0.5364,  0.325 ,  2.4397,  0.2384,  0.1433,\n",
              "        -0.5166,  0.2566,  0.1445,  0.1777, -0.0058,  0.2509],\n",
              "       [ 0.2374, -0.0467,  0.3947,  0.1535,  0.2384,  1.352 ,  0.6416,\n",
              "        -0.0781,  0.7644,  0.4392,  0.0177,  0.4359,  0.1554],\n",
              "       [ 0.0753, -0.0186,  0.3191,  0.1222,  0.1433,  0.6416,  0.6968,\n",
              "        -0.2588,  0.5765,  0.3851, -0.0408,  0.2525,  0.0748],\n",
              "       [ 0.0231,  0.2194,  0.4553,  0.273 , -0.5166, -0.0781, -0.2588,\n",
              "         2.1795, -0.2801, -0.0363,  0.1208, -0.332 , -0.1485],\n",
              "       [ 0.1102,  0.0187, -0.0353, -0.0824,  0.2566,  0.7644,  0.5765,\n",
              "        -0.2801,  2.1792,  0.6795, -0.1815,  0.2323,  0.1568],\n",
              "       [ 0.4261, -0.3939,  0.06  , -0.068 ,  0.1445,  0.4392,  0.3851,\n",
              "        -0.0363,  0.6795,  1.6141, -0.3417, -0.1241,  0.2666],\n",
              "       [ 0.1411, -0.4167,  0.167 ,  0.0336,  0.1777,  0.0177, -0.0408,\n",
              "         0.1208, -0.1815, -0.3417,  1.3119,  0.0917,  0.2232],\n",
              "       [-0.0155,  0.0787,  0.1987,  0.2548, -0.0058,  0.4359,  0.2525,\n",
              "        -0.332 ,  0.2323, -0.1241,  0.0917,  0.8714, -0.1167],\n",
              "       [ 0.1224, -0.2492, -0.0081, -0.1201,  0.2509,  0.1554,  0.0748,\n",
              "        -0.1485,  0.1568,  0.2666,  0.2232, -0.1167,  0.7862]])"
            ]
          },
          "metadata": {},
          "execution_count": 37
        }
      ]
    },
    {
      "cell_type": "code",
      "source": [
        "X_train_std.shape"
      ],
      "metadata": {
        "colab": {
          "base_uri": "https://localhost:8080/"
        },
        "id": "uuoreQhPdr9w",
        "outputId": "956b76a6-9bc8-410b-eed6-c611eacdfa16"
      },
      "execution_count": 38,
      "outputs": [
        {
          "output_type": "execute_result",
          "data": {
            "text/plain": [
              "(124, 13)"
            ]
          },
          "metadata": {},
          "execution_count": 38
        }
      ]
    },
    {
      "cell_type": "code",
      "source": [
        "# compute between-class scatter matrix S_B\n",
        "mean_overall = np.mean(X_train_std, axis=0)\n",
        "mean_overall, mean_overall.shape"
      ],
      "metadata": {
        "colab": {
          "base_uri": "https://localhost:8080/"
        },
        "id": "I0SOk3_CcJf-",
        "outputId": "32bf7a13-8c7f-4daf-86a3-846ba7c10e30"
      },
      "execution_count": 39,
      "outputs": [
        {
          "output_type": "execute_result",
          "data": {
            "text/plain": [
              "(array([ 6.8901e-15,  1.6832e-16,  3.7997e-15,  2.8561e-16, -3.1785e-16,\n",
              "         1.6626e-15,  1.5982e-16, -1.1989e-15,  1.8883e-15, -1.6152e-15,\n",
              "        -5.7839e-16,  8.6311e-16, -1.3341e-16]),\n",
              " (13,))"
            ]
          },
          "metadata": {},
          "execution_count": 39
        }
      ]
    },
    {
      "cell_type": "code",
      "source": [
        "mean_overall = mean_overall.reshape(d, 1)\n",
        "mean_overall, mean_overall.shape"
      ],
      "metadata": {
        "colab": {
          "base_uri": "https://localhost:8080/"
        },
        "id": "M7A1aVA6doyU",
        "outputId": "6274d16c-7f0a-40a6-c3d5-41aba6c133b3"
      },
      "execution_count": 40,
      "outputs": [
        {
          "output_type": "execute_result",
          "data": {
            "text/plain": [
              "(array([[ 6.8901e-15],\n",
              "        [ 1.6832e-16],\n",
              "        [ 3.7997e-15],\n",
              "        [ 2.8561e-16],\n",
              "        [-3.1785e-16],\n",
              "        [ 1.6626e-15],\n",
              "        [ 1.5982e-16],\n",
              "        [-1.1989e-15],\n",
              "        [ 1.8883e-15],\n",
              "        [-1.6152e-15],\n",
              "        [-5.7839e-16],\n",
              "        [ 8.6311e-16],\n",
              "        [-1.3341e-16]]),\n",
              " (13, 1))"
            ]
          },
          "metadata": {},
          "execution_count": 40
        }
      ]
    },
    {
      "cell_type": "code",
      "source": [
        "y_train.shape"
      ],
      "metadata": {
        "colab": {
          "base_uri": "https://localhost:8080/"
        },
        "id": "MH2f73atgePY",
        "outputId": "7c32f048-7ba0-4608-fa35-7575636af6c2"
      },
      "execution_count": 41,
      "outputs": [
        {
          "output_type": "execute_result",
          "data": {
            "text/plain": [
              "(124,)"
            ]
          },
          "metadata": {},
          "execution_count": 41
        }
      ]
    },
    {
      "cell_type": "code",
      "source": [
        "X_train_std.shape"
      ],
      "metadata": {
        "colab": {
          "base_uri": "https://localhost:8080/"
        },
        "id": "czwlcxOlf2vs",
        "outputId": "4c1385ac-6533-4fd3-c994-70d40894aacb"
      },
      "execution_count": 42,
      "outputs": [
        {
          "output_type": "execute_result",
          "data": {
            "text/plain": [
              "(124, 13)"
            ]
          },
          "metadata": {},
          "execution_count": 42
        }
      ]
    },
    {
      "cell_type": "code",
      "source": [
        "c1 = y_train == 1\n",
        "c2 = y_train == 2\n",
        "c3 = y_train == 3\n",
        "c2"
      ],
      "metadata": {
        "colab": {
          "base_uri": "https://localhost:8080/"
        },
        "id": "rM2EETUCgr1t",
        "outputId": "7d09a88e-24ae-4bf4-f77d-7aebc241ee95"
      },
      "execution_count": 43,
      "outputs": [
        {
          "output_type": "execute_result",
          "data": {
            "text/plain": [
              "array([False, False, False, False, False,  True,  True, False,  True,\n",
              "        True,  True, False,  True, False, False, False,  True, False,\n",
              "       False, False,  True, False,  True,  True,  True,  True, False,\n",
              "       False,  True,  True, False, False, False, False,  True, False,\n",
              "       False,  True, False, False, False, False, False, False, False,\n",
              "        True, False, False,  True, False,  True,  True,  True, False,\n",
              "        True,  True, False, False,  True, False, False,  True, False,\n",
              "       False,  True, False,  True,  True,  True, False, False, False,\n",
              "       False, False, False, False,  True, False,  True,  True, False,\n",
              "       False,  True, False,  True,  True, False,  True, False, False,\n",
              "       False, False,  True, False, False,  True,  True, False, False,\n",
              "        True, False, False,  True,  True, False, False, False, False,\n",
              "        True,  True,  True,  True, False, False, False, False, False,\n",
              "       False,  True,  True, False, False,  True,  True])"
            ]
          },
          "metadata": {},
          "execution_count": 43
        }
      ]
    },
    {
      "cell_type": "code",
      "source": [
        "X_train_std[c1, :].shape, X_train_std[c2, :].shape, X_train_std[c3, :].shape"
      ],
      "metadata": {
        "colab": {
          "base_uri": "https://localhost:8080/"
        },
        "id": "zSPF9G-ae-kE",
        "outputId": "0b8246b8-dd14-43dc-ecfa-837b4f86b7df"
      },
      "execution_count": 44,
      "outputs": [
        {
          "output_type": "execute_result",
          "data": {
            "text/plain": [
              "((41, 13), (50, 13), (33, 13))"
            ]
          },
          "metadata": {},
          "execution_count": 44
        }
      ]
    },
    {
      "cell_type": "code",
      "source": [
        "d = 13\n",
        "S_B = np.zeros((d, d))\n",
        "\n",
        "for i, mean_vec in enumerate(mean_vecs):\n",
        "  n = X_train_std[y_train == i + 1, :].shape[0]\n",
        "  mean_vec = mean_vec.reshape(d, 1) # make colum vector\n",
        "  S_B += n * (mean_vec - mean_overall).dot(\n",
        "      (mean_vec - mean_overall).T\n",
        "  )\n",
        "\n",
        "print(f'Between-class scatter matrix: {S_B.shape[0]}x{S_B.shape[1]}')"
      ],
      "metadata": {
        "colab": {
          "base_uri": "https://localhost:8080/"
        },
        "id": "KR2ajDHAeOJZ",
        "outputId": "2f204ea5-4e99-4f33-91e7-38454cfcd0ef"
      },
      "execution_count": 45,
      "outputs": [
        {
          "output_type": "stream",
          "name": "stdout",
          "text": [
            "Between-class scatter matrix: 13x13\n"
          ]
        }
      ]
    },
    {
      "cell_type": "code",
      "source": [
        "S_B"
      ],
      "metadata": {
        "colab": {
          "base_uri": "https://localhost:8080/"
        },
        "id": "ym8rVDtNe7QF",
        "outputId": "d0edf54c-cdec-4389-c0df-88eafb4e2b7b"
      },
      "execution_count": 46,
      "outputs": [
        {
          "output_type": "execute_result",
          "data": {
            "text/plain": [
              "array([[ 73.2779,   5.1521,  29.3409, -37.8053,  35.3288,  27.8688,\n",
              "         24.4037, -10.917 ,  11.9293,  51.2816,   0.2198,  -0.3445,\n",
              "         73.9711],\n",
              "       [  5.1521,  33.8209,   5.5342,  17.6688,  -3.0595, -41.4067,\n",
              "        -51.4514,  32.9397, -31.0444,  36.0237, -47.4845, -53.4785,\n",
              "        -18.4551],\n",
              "       [ 29.3409,   5.5342,  12.1084, -13.0286,  13.5707,   6.6597,\n",
              "          4.2554,  -0.8742,   1.4687,  23.8967,  -4.84  ,  -5.6837,\n",
              "         27.1642],\n",
              "       [-37.8053,  17.6688, -13.0286,  31.8532, -21.5944, -40.7237,\n",
              "        -44.8903,  26.1101, -25.5242,  -6.7623, -28.9705, -32.2968,\n",
              "        -52.5343],\n",
              "       [ 35.3288,  -3.0595,  13.5707, -21.5944,  17.9512,  20.621 ,\n",
              "         20.5742, -10.8479,  11.0338,  19.3529,   7.9757,   8.6902,\n",
              "         39.5823],\n",
              "       [ 27.8688, -41.4067,   6.6597, -40.7237,  20.621 ,  66.8061,\n",
              "         78.1916, -47.8401,  45.861 , -22.5142,  61.6487,  69.1515,\n",
              "         58.7931],\n",
              "       [ 24.4037, -51.4514,   4.2554, -44.8903,  20.5742,  78.1916,\n",
              "         92.6119, -57.1978,  54.6364, -34.4354,  75.5525,  84.8261,\n",
              "         62.2248],\n",
              "       [-10.917 ,  32.9397,  -0.8742,  26.1101, -10.8479, -47.8401,\n",
              "        -57.1978,  35.584 , -33.8973,  25.0189, -47.8855, -53.8   ,\n",
              "        -34.852 ],\n",
              "       [ 11.9293, -31.0444,   1.4687, -25.5242,  11.0338,  45.861 ,\n",
              "         54.6364, -33.8973,  32.3239, -22.5432,  45.299 ,  50.8811,\n",
              "         34.5842],\n",
              "       [ 51.2816,  36.0237,  23.8967,  -6.7623,  19.3529, -22.5142,\n",
              "        -34.4354,  25.0189, -22.5432,  67.2979, -45.8689, -52.0329,\n",
              "         28.8464],\n",
              "       [  0.2198, -47.4845,  -4.84  , -28.9705,   7.9757,  61.6487,\n",
              "         75.5525, -47.8855,  45.299 , -45.8689,  67.4344,  75.8858,\n",
              "         33.8052],\n",
              "       [ -0.3445, -53.4785,  -5.6837, -32.2968,   8.6902,  69.1515,\n",
              "         84.8261, -53.8   ,  50.8811, -52.0329,  75.8858,  85.4011,\n",
              "         37.4455],\n",
              "       [ 73.9711, -18.4551,  27.1642, -52.5343,  39.5823,  58.7931,\n",
              "         62.2248, -34.852 ,  34.5842,  28.8464,  33.8052,  37.4455,\n",
              "         91.3961]])"
            ]
          },
          "metadata": {},
          "execution_count": 46
        }
      ]
    },
    {
      "cell_type": "markdown",
      "source": [
        "### Selecting linear discriminants for the new feature subspace"
      ],
      "metadata": {
        "id": "6OWdpXoLhxlj"
      }
    },
    {
      "cell_type": "code",
      "source": [
        "# solve generalized eigenvalue problem of matrix\n",
        "eigen_vals, eigen_vecs = np.linalg.eig(np.linalg.inv(S_W).dot(S_B))\n",
        "\n",
        "# sort eigenvalues in descending order\n",
        "eigen_pairs = [(np.abs(eigen_vals[i]), eigen_vecs[:, i])\n",
        "                for i in range(len(eigen_vals))]\n",
        "eigen_pairs = sorted(eigen_pairs,\n",
        "                     key=lambda k: k[0],\n",
        "                     reverse=True)\n",
        "\n",
        "for eigen_val in eigen_pairs:\n",
        "  print(eigen_val[0])"
      ],
      "metadata": {
        "colab": {
          "base_uri": "https://localhost:8080/"
        },
        "id": "N0xSaJZeihEz",
        "outputId": "7111e1cc-7ad9-46f9-c8fe-8a6f81477ab6"
      },
      "execution_count": 47,
      "outputs": [
        {
          "output_type": "stream",
          "name": "stdout",
          "text": [
            "349.61780890599397\n",
            "172.7615221897938\n",
            "3.277875948160424e-14\n",
            "2.842170943040401e-14\n",
            "2.6347620763320822e-14\n",
            "2.6347620763320822e-14\n",
            "1.7169492680170306e-14\n",
            "1.7169492680170306e-14\n",
            "1.674335053365992e-14\n",
            "1.2740060380615543e-14\n",
            "7.458378098449665e-15\n",
            "4.737048557054326e-15\n",
            "3.688843187314971e-15\n"
          ]
        }
      ]
    },
    {
      "cell_type": "code",
      "source": [
        "eigen_vals.real"
      ],
      "metadata": {
        "colab": {
          "base_uri": "https://localhost:8080/"
        },
        "id": "s_PI9iU4lkHE",
        "outputId": "bf547481-27dc-4873-de6c-5b0a04e6af5a"
      },
      "execution_count": 48,
      "outputs": [
        {
          "output_type": "execute_result",
          "data": {
            "text/plain": [
              "array([ 2.8422e-14,  1.7276e+02,  3.4962e+02, -3.2779e-14, -1.1101e-14,\n",
              "       -1.1101e-14, -1.6743e-14,  1.3422e-14,  1.3422e-14, -4.7370e-15,\n",
              "        1.2740e-14,  3.6888e-15,  7.4584e-15])"
            ]
          },
          "metadata": {},
          "execution_count": 48
        }
      ]
    },
    {
      "cell_type": "code",
      "source": [
        "sum(eigen_vals.real)"
      ],
      "metadata": {
        "colab": {
          "base_uri": "https://localhost:8080/"
        },
        "id": "nOqKtuLuleyJ",
        "outputId": "ad521d8a-4c98-404a-9205-6645b8b6795e"
      },
      "execution_count": 49,
      "outputs": [
        {
          "output_type": "execute_result",
          "data": {
            "text/plain": [
              "np.float64(522.3793310957878)"
            ]
          },
          "metadata": {},
          "execution_count": 49
        }
      ]
    },
    {
      "cell_type": "code",
      "source": [
        "# plot linear discriminants by decreasing eigenvalues\n",
        "total = sum(eigen_vals.real)\n",
        "discr = [(i / total) for i in sorted(eigen_vals.real,\n",
        "                                     reverse=True)]\n",
        "cum_discr = np.cumsum(discr)\n",
        "plt.bar(range(1, 14),\n",
        "        discr,\n",
        "        align='center',\n",
        "        label='Individual discriminability')\n",
        "plt.step(range(1, 14),\n",
        "         cum_discr,\n",
        "         where='mid',\n",
        "         label='Cumulative discriminability')\n",
        "plt.ylabel('Discriminability ratio')\n",
        "plt.xlabel('Linear Discriminants')\n",
        "plt.ylim([-0.1, 1.1])\n",
        "plt.legend(loc='best')\n",
        "plt.tight_layout()\n",
        "plt.show()"
      ],
      "metadata": {
        "colab": {
          "base_uri": "https://localhost:8080/",
          "height": 487
        },
        "id": "wkLExKgBjEUj",
        "outputId": "85612d5e-f0f8-409f-d39c-d884fc272e47"
      },
      "execution_count": 50,
      "outputs": [
        {
          "output_type": "display_data",
          "data": {
            "text/plain": [
              "<Figure size 640x480 with 1 Axes>"
            ],
            "image/png": "[encoded data removed]"
          },
          "metadata": {}
        }
      ]
    },
    {
      "cell_type": "code",
      "source": [
        "eigen_pairs"
      ],
      "metadata": {
        "colab": {
          "base_uri": "https://localhost:8080/"
        },
        "id": "txVmvUOVmXSi",
        "outputId": "558f65db-77a8-4ad1-98d2-0d05b5439674"
      },
      "execution_count": 51,
      "outputs": [
        {
          "output_type": "execute_result",
          "data": {
            "text/plain": [
              "[(np.float64(349.61780890599397),\n",
              "  array([-0.1481+0.j,  0.0908+0.j, -0.0168+0.j,  0.1484+0.j, -0.0163+0.j,\n",
              "          0.1913+0.j, -0.7338+0.j, -0.075 +0.j,  0.0018+0.j,  0.294 +0.j,\n",
              "         -0.0328+0.j, -0.3547+0.j, -0.3915+0.j])),\n",
              " (np.float64(172.7615221897938),\n",
              "  array([-0.4092+0.j, -0.1577+0.j, -0.3537+0.j,  0.3223+0.j, -0.0817+0.j,\n",
              "          0.0842+0.j,  0.2823+0.j, -0.0102+0.j,  0.0907+0.j, -0.2152+0.j,\n",
              "          0.2747+0.j, -0.0124+0.j, -0.5958+0.j])),\n",
              " (np.float64(3.277875948160424e-14),\n",
              "  array([ 0.025 +0.j, -0.3595+0.j,  0.0243+0.j,  0.2764+0.j, -0.0044+0.j,\n",
              "          0.2079+0.j,  0.5722+0.j, -0.0557+0.j, -0.0627+0.j,  0.1003+0.j,\n",
              "         -0.1267+0.j, -0.59  +0.j, -0.2031+0.j])),\n",
              " (np.float64(2.842170943040401e-14),\n",
              "  array([ 0.7517+0.j, -0.0834+0.j, -0.2406+0.j,  0.2515+0.j, -0.0586+0.j,\n",
              "          0.1027+0.j,  0.0109+0.j, -0.025 +0.j,  0.0611+0.j, -0.0726+0.j,\n",
              "          0.1757+0.j, -0.0943+0.j, -0.4933+0.j])),\n",
              " (np.float64(2.6347620763320822e-14),\n",
              "  array([ 0.4051+0.2048j,  0.2588+0.191j , -0.2554-0.0166j,  0.1025-0.1938j,\n",
              "         -0.0839-0.0944j, -0.1464-0.2359j,  0.4648+0.j    , -0.0337+0.0968j,\n",
              "         -0.0813+0.0439j, -0.1899-0.1699j, -0.073 +0.3487j, -0.092 -0.1094j,\n",
              "         -0.1842-0.0513j])),\n",
              " (np.float64(2.6347620763320822e-14),\n",
              "  array([ 0.4051-0.2048j,  0.2588-0.191j , -0.2554+0.0166j,  0.1025+0.1938j,\n",
              "         -0.0839+0.0944j, -0.1464+0.2359j,  0.4648-0.j    , -0.0337-0.0968j,\n",
              "         -0.0813-0.0439j, -0.1899+0.1699j, -0.073 -0.3487j, -0.092 +0.1094j,\n",
              "         -0.1842+0.0513j])),\n",
              " (np.float64(1.7169492680170306e-14),\n",
              "  array([ 0.7171+0.j    , -0.1435+0.0802j, -0.1176+0.2742j,  0.2564+0.0252j,\n",
              "         -0.0956-0.0195j,  0.0208+0.0982j, -0.1734-0.1131j, -0.0136-0.0266j,\n",
              "          0.0491+0.0603j, -0.2898-0.0126j,  0.2343+0.0232j, -0.1509+0.0742j,\n",
              "         -0.2381-0.0964j])),\n",
              " (np.float64(1.7169492680170306e-14),\n",
              "  array([ 0.7171-0.j    , -0.1435-0.0802j, -0.1176-0.2742j,  0.2564-0.0252j,\n",
              "         -0.0956+0.0195j,  0.0208-0.0982j, -0.1734+0.1131j, -0.0136+0.0266j,\n",
              "          0.0491-0.0603j, -0.2898+0.0126j,  0.2343-0.0232j, -0.1509-0.0742j,\n",
              "         -0.2381+0.0964j])),\n",
              " (np.float64(1.674335053365992e-14),\n",
              "  array([ 0.3019+0.j,  0.3381+0.j, -0.6562+0.j, -0.1819+0.j, -0.0651+0.j,\n",
              "          0.1346+0.j, -0.3587+0.j,  0.0836+0.j,  0.0586+0.j, -0.2549+0.j,\n",
              "          0.2855+0.j, -0.0902+0.j,  0.1218+0.j])),\n",
              " (np.float64(1.2740060380615543e-14),\n",
              "  array([ 0.6244+0.j, -0.2968+0.j, -0.3337+0.j, -0.0743+0.j,  0.0256+0.j,\n",
              "         -0.0761+0.j, -0.1956+0.j, -0.0367+0.j,  0.0895+0.j, -0.4489+0.j,\n",
              "          0.0899+0.j, -0.3519+0.j, -0.133 +0.j])),\n",
              " (np.float64(7.458378098449665e-15),\n",
              "  array([ 0.6598+0.j, -0.1808+0.j, -0.412 +0.j,  0.0162+0.j,  0.044 +0.j,\n",
              "         -0.0612+0.j, -0.0902+0.j, -0.1356+0.j,  0.101 +0.j, -0.3639+0.j,\n",
              "          0.101 +0.j, -0.3562+0.j, -0.2235+0.j])),\n",
              " (np.float64(4.737048557054326e-15),\n",
              "  array([-0.6259+0.j, -0.0745+0.j,  0.4917+0.j, -0.0893+0.j,  0.4709+0.j,\n",
              "          0.0083+0.j, -0.035 +0.j, -0.0967+0.j, -0.1593+0.j,  0.2069+0.j,\n",
              "         -0.1273+0.j,  0.1865+0.j,  0.0373+0.j])),\n",
              " (np.float64(3.688843187314971e-15),\n",
              "  array([ 0.5738+0.j, -0.0783+0.j,  0.0759+0.j, -0.2173+0.j, -0.0759+0.j,\n",
              "         -0.1123+0.j, -0.1298+0.j, -0.4176+0.j, -0.0122+0.j, -0.3506+0.j,\n",
              "          0.1397+0.j, -0.3139+0.j, -0.4012+0.j]))]"
            ]
          },
          "metadata": {},
          "execution_count": 51
        }
      ]
    },
    {
      "cell_type": "code",
      "source": [
        "eigen_pairs[0][1]"
      ],
      "metadata": {
        "colab": {
          "base_uri": "https://localhost:8080/"
        },
        "id": "Am-ojCF0meqB",
        "outputId": "e0e04f2b-f308-4324-c74d-15152c849cc6"
      },
      "execution_count": 52,
      "outputs": [
        {
          "output_type": "execute_result",
          "data": {
            "text/plain": [
              "array([-0.1481+0.j,  0.0908+0.j, -0.0168+0.j,  0.1484+0.j, -0.0163+0.j,\n",
              "        0.1913+0.j, -0.7338+0.j, -0.075 +0.j,  0.0018+0.j,  0.294 +0.j,\n",
              "       -0.0328+0.j, -0.3547+0.j, -0.3915+0.j])"
            ]
          },
          "metadata": {},
          "execution_count": 52
        }
      ]
    },
    {
      "cell_type": "code",
      "source": [
        "eigen_pairs[0][1][:, np.newaxis]"
      ],
      "metadata": {
        "colab": {
          "base_uri": "https://localhost:8080/"
        },
        "id": "XY3YT1asmk4p",
        "outputId": "2717e8dc-1b1e-4472-ad6e-d95014f7b957"
      },
      "execution_count": 53,
      "outputs": [
        {
          "output_type": "execute_result",
          "data": {
            "text/plain": [
              "array([[-0.1481+0.j],\n",
              "       [ 0.0908+0.j],\n",
              "       [-0.0168+0.j],\n",
              "       [ 0.1484+0.j],\n",
              "       [-0.0163+0.j],\n",
              "       [ 0.1913+0.j],\n",
              "       [-0.7338+0.j],\n",
              "       [-0.075 +0.j],\n",
              "       [ 0.0018+0.j],\n",
              "       [ 0.294 +0.j],\n",
              "       [-0.0328+0.j],\n",
              "       [-0.3547+0.j],\n",
              "       [-0.3915+0.j]])"
            ]
          },
          "metadata": {},
          "execution_count": 53
        }
      ]
    },
    {
      "cell_type": "code",
      "source": [
        "eigen_pairs[0][1][:, np.newaxis].real, eigen_pairs[1][1][:, np.newaxis].real"
      ],
      "metadata": {
        "colab": {
          "base_uri": "https://localhost:8080/"
        },
        "id": "L_wNeGIrmzEy",
        "outputId": "99184195-30b8-4838-bbe4-66866b8ddd0c"
      },
      "execution_count": 54,
      "outputs": [
        {
          "output_type": "execute_result",
          "data": {
            "text/plain": [
              "(array([[-0.1481],\n",
              "        [ 0.0908],\n",
              "        [-0.0168],\n",
              "        [ 0.1484],\n",
              "        [-0.0163],\n",
              "        [ 0.1913],\n",
              "        [-0.7338],\n",
              "        [-0.075 ],\n",
              "        [ 0.0018],\n",
              "        [ 0.294 ],\n",
              "        [-0.0328],\n",
              "        [-0.3547],\n",
              "        [-0.3915]]),\n",
              " array([[-0.4092],\n",
              "        [-0.1577],\n",
              "        [-0.3537],\n",
              "        [ 0.3223],\n",
              "        [-0.0817],\n",
              "        [ 0.0842],\n",
              "        [ 0.2823],\n",
              "        [-0.0102],\n",
              "        [ 0.0907],\n",
              "        [-0.2152],\n",
              "        [ 0.2747],\n",
              "        [-0.0124],\n",
              "        [-0.5958]]))"
            ]
          },
          "metadata": {},
          "execution_count": 54
        }
      ]
    },
    {
      "cell_type": "code",
      "source": [
        "# stack two most discriminative eigenvectors columns to create\n",
        "# transformation matrix W\n",
        "w = np.hstack((eigen_pairs[0][1][:, np.newaxis].real,\n",
        "               eigen_pairs[1][1][:, np.newaxis].real))\n",
        "print(f'Matrix W:\\n {w}')"
      ],
      "metadata": {
        "colab": {
          "base_uri": "https://localhost:8080/"
        },
        "id": "L-0E7rn6lWVu",
        "outputId": "972f1c1e-7609-4e43-b9e3-f96b77203046"
      },
      "execution_count": 55,
      "outputs": [
        {
          "output_type": "stream",
          "name": "stdout",
          "text": [
            "Matrix W:\n",
            " [[-0.1481 -0.4092]\n",
            " [ 0.0908 -0.1577]\n",
            " [-0.0168 -0.3537]\n",
            " [ 0.1484  0.3223]\n",
            " [-0.0163 -0.0817]\n",
            " [ 0.1913  0.0842]\n",
            " [-0.7338  0.2823]\n",
            " [-0.075  -0.0102]\n",
            " [ 0.0018  0.0907]\n",
            " [ 0.294  -0.2152]\n",
            " [-0.0328  0.2747]\n",
            " [-0.3547 -0.0124]\n",
            " [-0.3915 -0.5958]]\n"
          ]
        }
      ]
    },
    {
      "cell_type": "code",
      "source": [
        "### Projecting examples onto the new feature space\n",
        "X_train_lda = X_train_std.dot(w)\n",
        "colors = ['r', 'b', 'g']\n",
        "markers = ['o', 's', '^']\n",
        "\n",
        "for l, c, m in zip(np.unique(y_train), colors, markers):\n",
        "  plt.scatter(X_train_lda[y_train == l, 0],\n",
        "              X_train_lda[y_train == l, 1] * (-1),\n",
        "              c=c,\n",
        "              label=f'Class {l}',\n",
        "              marker=m)\n",
        "\n",
        "plt.xlabel('LD 1')\n",
        "plt.ylabel('LD 2')\n",
        "plt.legend(loc='lower right')\n",
        "plt.tight_layout()\n",
        "plt.show()"
      ],
      "metadata": {
        "colab": {
          "base_uri": "https://localhost:8080/",
          "height": 487
        },
        "id": "_gzGTKwimRgx",
        "outputId": "1b531ad1-ff71-4c76-d7a1-63e0cf5f4641"
      },
      "execution_count": 56,
      "outputs": [
        {
          "output_type": "display_data",
          "data": {
            "text/plain": [
              "<Figure size 640x480 with 1 Axes>"
            ],
            "image/png": "[encoded data removed]"
          },
          "metadata": {}
        }
      ]
    },
    {
      "cell_type": "markdown",
      "source": [
        "### LDA via scikit-learn"
      ],
      "metadata": {
        "id": "f9Ge76uBongj"
      }
    },
    {
      "cell_type": "code",
      "source": [
        "from sklearn.discriminant_analysis import LinearDiscriminantAnalysis as LDA\n",
        "\n",
        "lda = LDA(n_components=2)\n",
        "X_train_lda = lda.fit_transform(X_train_std, y_train)"
      ],
      "metadata": {
        "id": "adaoVrjZo5ga"
      },
      "execution_count": 57,
      "outputs": []
    },
    {
      "cell_type": "code",
      "source": [
        "# fit and plot logistic regression model on LDA transformed dataset\n",
        "from sklearn.linear_model import LogisticRegression\n",
        "\n",
        "lr = LogisticRegression(multi_class='ovr',\n",
        "                        random_state=1,\n",
        "                        solver='lbfgs')\n",
        "lr = lr.fit(X_train_lda, y_train)\n",
        "\n",
        "plot_decision_regions(X=X_train_lda,\n",
        "                      y=y_train,\n",
        "                      classifier=lr)\n",
        "plt.xlabel('LD 1')\n",
        "plt.ylabel('LD 2')\n",
        "plt.legend(loc='lower left')\n",
        "plt.tight_layout()\n",
        "plt.show()"
      ],
      "metadata": {
        "colab": {
          "base_uri": "https://localhost:8080/",
          "height": 542
        },
        "id": "1V_KzZqEpFvN",
        "outputId": "abc8aa5e-6d2c-4b65-faa8-ef67fe4c3f16"
      },
      "execution_count": 58,
      "outputs": [
        {
          "output_type": "stream",
          "name": "stderr",
          "text": [
            "/usr/local/lib/python3.11/dist-packages/sklearn/linear_model/_logistic.py:1256: FutureWarning: 'multi_class' was deprecated in version 1.5 and will be removed in 1.7. Use OneVsRestClassifier(LogisticRegression(..)) instead. Leave it to its default value to avoid this warning.\n",
            "  warnings.warn(\n"
          ]
        },
        {
          "output_type": "display_data",
          "data": {
            "text/plain": [
              "<Figure size 640x480 with 1 Axes>"
            ],
            "image/png": "[encoded data removed]"
          },
          "metadata": {}
        }
      ]
    },
    {
      "cell_type": "code",
      "source": [
        "# lower regularization strength to shift decision boundary\n",
        "# better classification\n",
        "lr = LogisticRegression(multi_class='ovr',\n",
        "                        C=0.01,\n",
        "                        solver='lbfgs')\n",
        "lr = lr.fit(X_train_lda, y_train)\n",
        "\n",
        "plot_decision_regions(X=X_train_lda,\n",
        "                      y=y_train,\n",
        "                      classifier=lr)\n",
        "plt.xlabel('LD 1')\n",
        "plt.ylabel('LD 2')\n",
        "plt.legend(loc='lower left')\n",
        "plt.tight_layout()\n",
        "plt.show()"
      ],
      "metadata": {
        "colab": {
          "base_uri": "https://localhost:8080/",
          "height": 542
        },
        "id": "dIaPHJBHpoBS",
        "outputId": "a613877a-52fe-438c-8600-0a1e0ab0edb6"
      },
      "execution_count": 59,
      "outputs": [
        {
          "output_type": "stream",
          "name": "stderr",
          "text": [
            "/usr/local/lib/python3.11/dist-packages/sklearn/linear_model/_logistic.py:1256: FutureWarning: 'multi_class' was deprecated in version 1.5 and will be removed in 1.7. Use OneVsRestClassifier(LogisticRegression(..)) instead. Leave it to its default value to avoid this warning.\n",
            "  warnings.warn(\n"
          ]
        },
        {
          "output_type": "display_data",
          "data": {
            "text/plain": [
              "<Figure size 640x480 with 1 Axes>"
            ],
            "image/png": "[encoded data removed]"
          },
          "metadata": {}
        }
      ]
    },
    {
      "cell_type": "code",
      "source": [
        "# check accuracy\n",
        "from sklearn.metrics import accuracy_score\n",
        "\n",
        "y_pred = lr.predict(X_train_lda)\n",
        "acc = accuracy_score(y_train, y_pred)\n",
        "acc"
      ],
      "metadata": {
        "colab": {
          "base_uri": "https://localhost:8080/"
        },
        "id": "O0aRqJXhqb7e",
        "outputId": "3ee1b9aa-6aff-4f5c-f0ec-584c19b5efbb"
      },
      "execution_count": 60,
      "outputs": [
        {
          "output_type": "execute_result",
          "data": {
            "text/plain": [
              "1.0"
            ]
          },
          "metadata": {},
          "execution_count": 60
        }
      ]
    },
    {
      "cell_type": "code",
      "source": [
        "# make prediction on test set and plot result\n",
        "X_test_lda = lda.transform(X_test_std)\n",
        "\n",
        "plot_decision_regions(X=X_test_lda,\n",
        "                      y=y_test,\n",
        "                      classifier=lr)\n",
        "plt.xlabel('LD 1')\n",
        "plt.ylabel('LD 2')\n",
        "plt.legend(loc='lower left')\n",
        "plt.tight_layout()\n",
        "plt.show()"
      ],
      "metadata": {
        "colab": {
          "base_uri": "https://localhost:8080/",
          "height": 487
        },
        "id": "bCNKMTMJqwyz",
        "outputId": "2f2e0c97-b608-46da-cff5-2afe8a19c732"
      },
      "execution_count": 61,
      "outputs": [
        {
          "output_type": "display_data",
          "data": {
            "text/plain": [
              "<Figure size 640x480 with 1 Axes>"
            ],
            "image/png": "[encoded data removed]"
          },
          "metadata": {}
        }
      ]
    },
    {
      "cell_type": "markdown",
      "source": [
        "## Non-linear diensionality reduction and visualization"
      ],
      "metadata": {
        "id": "vYqBJZAArHtA"
      }
    },
    {
      "cell_type": "markdown",
      "source": [
        "### Visualizing data via t-distributed stochastic neighbor embedding\n",
        "\n",
        "The following code shows a quick demonstration of how t-SNE can be applied to a 64-dimensional dataset. First, we load the Digits dataset from scikit-learn, which consists of low-resolution handwritten ten digits:"
      ],
      "metadata": {
        "id": "hOJ04fbSSqlV"
      }
    },
    {
      "cell_type": "code",
      "source": [
        "from sklearn.datasets import load_digits\n",
        "\n",
        "digits = load_digits()\n",
        "\n",
        "len(digits.images)"
      ],
      "metadata": {
        "colab": {
          "base_uri": "https://localhost:8080/"
        },
        "id": "yiNnHNE9Uopt",
        "outputId": "83fb7557-c16c-4185-dd52-659b79314537"
      },
      "execution_count": 64,
      "outputs": [
        {
          "output_type": "execute_result",
          "data": {
            "text/plain": [
              "1797"
            ]
          },
          "metadata": {},
          "execution_count": 64
        }
      ]
    },
    {
      "cell_type": "code",
      "source": [
        "# plot the first 4 images\n",
        "fig, ax = plt.subplots(1, 4)\n",
        "\n",
        "for i in range(4):\n",
        "  ax[i].imshow(digits.images[i],\n",
        "               cmap='Greys')\n",
        "\n",
        "plt.show()"
      ],
      "metadata": {
        "colab": {
          "base_uri": "https://localhost:8080/",
          "height": 168
        },
        "id": "i-GbInooU02B",
        "outputId": "6b917abc-416c-42b3-8eb5-58579aa95943"
      },
      "execution_count": 65,
      "outputs": [
        {
          "output_type": "display_data",
          "data": {
            "text/plain": [
              "<Figure size 640x480 with 4 Axes>"
            ],
            "image/png": "[encoded data removed]"
          },
          "metadata": {}
        }
      ]
    },
    {
      "cell_type": "code",
      "source": [
        "# access dataset by tabular version\n",
        "digits.data"
      ],
      "metadata": {
        "colab": {
          "base_uri": "https://localhost:8080/"
        },
        "id": "FY8bmF94VKMz",
        "outputId": "0cdab105-0b28-476c-cea2-dd8cee830b78"
      },
      "execution_count": 66,
      "outputs": [
        {
          "output_type": "execute_result",
          "data": {
            "text/plain": [
              "array([[ 0.,  0.,  5., ...,  0.,  0.,  0.],\n",
              "       [ 0.,  0.,  0., ..., 10.,  0.,  0.],\n",
              "       [ 0.,  0.,  0., ..., 16.,  9.,  0.],\n",
              "       ...,\n",
              "       [ 0.,  0.,  1., ...,  6.,  0.,  0.],\n",
              "       [ 0.,  0.,  2., ..., 12.,  0.,  0.],\n",
              "       [ 0.,  0., 10., ..., 12.,  1.,  0.]])"
            ]
          },
          "metadata": {},
          "execution_count": 66
        }
      ]
    },
    {
      "cell_type": "code",
      "source": [
        "digits.data.shape"
      ],
      "metadata": {
        "colab": {
          "base_uri": "https://localhost:8080/"
        },
        "id": "wSuc_TC_VTLF",
        "outputId": "5eac2e37-d91a-4573-afa0-74e5ee1152a5"
      },
      "execution_count": 67,
      "outputs": [
        {
          "output_type": "execute_result",
          "data": {
            "text/plain": [
              "(1797, 64)"
            ]
          },
          "metadata": {},
          "execution_count": 67
        }
      ]
    },
    {
      "cell_type": "code",
      "source": [
        "# extract features and labels\n",
        "y_digits = digits.target\n",
        "X_digits = digits.data\n",
        "\n",
        "y_digits, X_digits"
      ],
      "metadata": {
        "colab": {
          "base_uri": "https://localhost:8080/"
        },
        "id": "6TMC4CyDVVlQ",
        "outputId": "d3941595-cb32-4340-8094-1af819ba5bf7"
      },
      "execution_count": 68,
      "outputs": [
        {
          "output_type": "execute_result",
          "data": {
            "text/plain": [
              "(array([0, 1, 2, ..., 8, 9, 8]),\n",
              " array([[ 0.,  0.,  5., ...,  0.,  0.,  0.],\n",
              "        [ 0.,  0.,  0., ..., 10.,  0.,  0.],\n",
              "        [ 0.,  0.,  0., ..., 16.,  9.,  0.],\n",
              "        ...,\n",
              "        [ 0.,  0.,  1., ...,  6.,  0.,  0.],\n",
              "        [ 0.,  0.,  2., ..., 12.,  0.,  0.],\n",
              "        [ 0.,  0., 10., ..., 12.,  1.,  0.]]))"
            ]
          },
          "metadata": {},
          "execution_count": 68
        }
      ]
    },
    {
      "cell_type": "code",
      "source": [
        "# fit t-NSE\n",
        "from sklearn.manifold import TSNE\n",
        "\n",
        "# project 64-dimensional dataset onto a 2-dimensional space\n",
        "# initialize t-SNE embdding using PCA as recommended\n",
        "tsne = TSNE(n_components=2,\n",
        "            init='pca',\n",
        "            random_state=123)\n",
        "X_digits_tsne = tsne.fit_transform(X_digits)\n",
        "X_digits_tsne"
      ],
      "metadata": {
        "colab": {
          "base_uri": "https://localhost:8080/"
        },
        "id": "zlvJOUqoVjVP",
        "outputId": "72205750-065a-450c-9210-badd98fa9984"
      },
      "execution_count": 71,
      "outputs": [
        {
          "output_type": "execute_result",
          "data": {
            "text/plain": [
              "array([[ -2.8277, -54.9725],\n",
              "       [ 10.4362,  11.6088],\n",
              "       [-13.7236,  18.8316],\n",
              "       ...,\n",
              "       [ -6.0208,  10.6932],\n",
              "       [-21.0393, -15.5328],\n",
              "       [-14.3278,   7.0308]], dtype=float32)"
            ]
          },
          "metadata": {},
          "execution_count": 71
        }
      ]
    },
    {
      "cell_type": "code",
      "source": [
        "# visualize 2D t-SNE embeddings\n",
        "import matplotlib.patheffects as PathEffects\n",
        "\n",
        "def plot_projection(x, colors):\n",
        "\n",
        "  f = plt.figure(figsize=(8, 8))\n",
        "  ax = plt.subplot(aspect='equal')\n",
        "\n",
        "  for i in range(10):\n",
        "    plt.scatter(x[colors == i, 0],\n",
        "                x[colors == i, 1])\n",
        "\n",
        "  for i in range(10):\n",
        "    xtext, ytext = np.median(x[colors == i, :],\n",
        "                             axis=0)\n",
        "    txt = ax.text(xtext, ytext,\n",
        "                  str(i),\n",
        "                  fontsize=24)\n",
        "    txt.set_path_effects([\n",
        "        PathEffects.Stroke(linewidth=5, foreground='w'),\n",
        "        PathEffects.Normal()\n",
        "    ])\n",
        "\n",
        "plot_projection(X_digits_tsne, y_digits)\n",
        "plt.show()"
      ],
      "metadata": {
        "colab": {
          "base_uri": "https://localhost:8080/",
          "height": 676
        },
        "id": "cdlaWdZ1V0lv",
        "outputId": "7c53d9c7-c191-4396-db9a-f03dc421d916"
      },
      "execution_count": 72,
      "outputs": [
        {
          "output_type": "display_data",
          "data": {
            "text/plain": [
              "<Figure size 800x800 with 1 Axes>"
            ],
            "image/png": "[encoded data removed]"
          },
          "metadata": {}
        }
      ]
    },
    {
      "cell_type": "code",
      "source": [],
      "metadata": {
        "id": "GneYHihiXMg1"
      },
      "execution_count": null,
      "outputs": []
    }
  ]
}